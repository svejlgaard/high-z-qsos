{
 "cells": [
  {
   "cell_type": "code",
   "execution_count": 18,
   "id": "3f791e9a-d351-4098-aae7-ae926950daf8",
   "metadata": {},
   "outputs": [],
   "source": [
    "#Create a table imitating VOSS_classifications\n",
    "from astropy.table import Table\n",
    "from astropy.table import QTable\n",
    "import astropy.units as u\n",
    "import numpy as np\n",
    "\n",
    "sources_VOSS = 2810114\n",
    "RAd = np.random.uniform(0,360,sources_VOSS)\n",
    "DECd = np.random.uniform(-31,15,sources_VOSS)\n",
    "\n",
    "tv = QTable([RAd, DECd], names=('RAd', 'DECd'), meta={'name': 'VOSS_classifications'})\n",
    "\n",
    "tv.write('simulated_VOSS.fits', format='fits', overwrite=True)"
   ]
  },
  {
   "cell_type": "code",
   "execution_count": 19,
   "id": "24fff8f8-1d23-4532-ae19-05b1e7204a95",
   "metadata": {},
   "outputs": [],
   "source": [
    "#Create the same table imitating Gaia_EDR3\n",
    "sources_Gaia = 7804642\n",
    "ra = np.random.uniform(0,360,sources_Gaia)\n",
    "dec = np.random.uniform(-31,15,sources_Gaia)\n",
    "\n",
    "#Some number of entries (the first ones) should be the same as in VOSS_classifications\n",
    "#But with some noise in the poition values\n",
    "matches = 2000000\n",
    "uncertainty = 0.00001\n",
    "ra[0:matches] = RAd[0:matches]+np.random.normal(0,uncertainty,matches)\n",
    "dec[0:matches] = DECd[0:matches]+np.random.normal(0,uncertainty,matches)\n",
    "\n",
    "tg = QTable([ra, dec], names=('ra', 'dec'), meta={'name': 'Gaia_ERD3'})\n",
    "\n",
    "tg.write('simulated_Gaia.fits', format='fits', overwrite=True)"
   ]
  },
  {
   "cell_type": "code",
   "execution_count": null,
   "id": "1b1feba6-0fcc-4c79-a1f7-f4a0c6010f01",
   "metadata": {},
   "outputs": [],
   "source": []
  }
 ],
 "metadata": {
  "kernelspec": {
   "display_name": "Python 3 (ipykernel)",
   "language": "python",
   "name": "python3"
  },
  "language_info": {
   "codemirror_mode": {
    "name": "ipython",
    "version": 3
   },
   "file_extension": ".py",
   "mimetype": "text/x-python",
   "name": "python",
   "nbconvert_exporter": "python",
   "pygments_lexer": "ipython3",
   "version": "3.10.9"
  }
 },
 "nbformat": 4,
 "nbformat_minor": 5
}
