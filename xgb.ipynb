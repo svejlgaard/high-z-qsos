{
 "cells": [
  {
   "attachments": {},
   "cell_type": "markdown",
   "metadata": {},
   "source": [
    "# Training the XG-Boost"
   ]
  },
  {
   "attachments": {},
   "cell_type": "markdown",
   "metadata": {},
   "source": [
    "Loading relevant modules:"
   ]
  },
  {
   "cell_type": "code",
   "execution_count": 1,
   "metadata": {},
   "outputs": [],
   "source": [
    "from astropy.io import fits\n",
    "import numpy as np\n",
    "import matplotlib.pyplot as plt\n",
    "import os, sys\n",
    "from astropy.table import Table\n",
    "from astropy.io import fits\n",
    "from os import listdir\n",
    "import pandas as pd\n",
    "from astropy import units as u\n",
    "from astropy.table import Table\n",
    "from itertools import chain\n",
    "import re\n",
    "from astropy.coordinates import SkyCoord\n",
    "from astroML.crossmatch import crossmatch_angular\n",
    "from tqdm import tqdm\n",
    "import xgboost as xgb\n",
    "from sklearn.model_selection import train_test_split\n",
    "from sklearn.metrics import precision_score, recall_score, accuracy_score, confusion_matrix"
   ]
  },
  {
   "cell_type": "code",
   "execution_count": 2,
   "metadata": {},
   "outputs": [],
   "source": [
    "main_path = sys.path[0].replace('/code','')\n",
    "os.chdir(main_path)"
   ]
  },
  {
   "attachments": {},
   "cell_type": "markdown",
   "metadata": {},
   "source": [
    "Loading the dataset:"
   ]
  },
  {
   "cell_type": "code",
   "execution_count": 3,
   "metadata": {},
   "outputs": [],
   "source": [
    "alldata = Table.read(main_path+'/data/final_cat_allred.fits')\n",
    "alldata = alldata.to_pandas()"
   ]
  },
  {
   "cell_type": "code",
   "execution_count": 4,
   "metadata": {},
   "outputs": [
    {
     "name": "stdout",
     "output_type": "stream",
     "text": [
      "                qid           RAd          DECd        z_spec  \\\n",
      "count  7.809017e+06  7.809018e+06  7.809018e+06  38495.000000   \n",
      "mean   1.743823e+07  1.981461e+02 -7.789233e+00      0.633401   \n",
      "std    9.483574e+06  1.026036e+02  1.282100e+01      0.858831   \n",
      "min    9.369000e+03  1.310232e-05 -3.095775e+01     -0.001600   \n",
      "25%    9.172577e+06  1.373865e+02 -1.882673e+01      0.104200   \n",
      "50%    1.740215e+07  2.115137e+02 -7.945979e+00      0.162200   \n",
      "75%    2.589552e+07  3.031893e+02  3.149877e+00      0.971000   \n",
      "max    3.337563e+07  3.599999e+02  1.500000e+01      5.170000   \n",
      "\n",
      "       Q1_SkyM11_mag_u  Q1_SkyM11_mag_v  Q1_SkyM11_mag_g  Q1_SkyM11_mag_r  \\\n",
      "count     28665.000000     27263.000000    114395.000000    139528.000000   \n",
      "mean         17.561028        17.160528        17.253969        16.957958   \n",
      "std           0.787743         0.818146         1.176948         1.248276   \n",
      "min          12.686000        12.855000        13.327000        13.731000   \n",
      "25%          16.958000        16.527000        16.422001        16.021999   \n",
      "50%          17.671000        17.246000        17.531000        17.212000   \n",
      "75%          18.216999        17.841000        18.231001        18.017000   \n",
      "max          19.094999        18.909000        19.041000        19.021999   \n",
      "\n",
      "       Q1_SkyM11_mag_i  Q1_SkyM11_mag_z  ...     w3sigmpro         w3snr  \\\n",
      "count    166385.000000    166385.000000  ...  1.014853e+06  6.506930e+06   \n",
      "mean         16.624186        16.376150  ...  2.868207e-01  1.301243e+00   \n",
      "std           1.303439         1.316454  ...  1.635229e-01  4.329630e+00   \n",
      "min          14.001000        13.682000  ...  9.000000e-03 -2.406000e+02   \n",
      "25%          15.474000        15.149000  ...  1.250000e-01 -3.000000e-01   \n",
      "50%          16.908001        16.639000  ...  3.030000e-01  5.000000e-01   \n",
      "75%          17.747999        17.516001  ...  4.360000e-01  1.400000e+00   \n",
      "max          18.987000        18.896999  ...  5.430000e-01  1.210000e+02   \n",
      "\n",
      "             w4mpro      w4sigmpro         w4snr        pmra_y       sigpmra  \\\n",
      "count  6.511835e+06  381866.000000  6.511829e+06  6.514839e+06  6.514839e+06   \n",
      "mean   8.796566e+00       0.327889  3.240927e-01  1.056951e+01  3.541859e+02   \n",
      "std    3.652945e-01       0.150578  1.939405e+00  3.966005e+02  4.592806e+02   \n",
      "min   -3.181000e+00       0.002000 -9.430000e+01 -1.543790e+05  0.000000e+00   \n",
      "25%    8.630000e+00       0.196000 -5.000000e-01 -1.360000e+02  1.290000e+02   \n",
      "50%    8.853000e+00       0.351000  1.000000e-01  1.200000e+01  2.440000e+02   \n",
      "75%    9.017000e+00       0.465000  8.000000e-01  1.560000e+02  4.870000e+02   \n",
      "max    9.846000e+00       0.543000  5.698000e+02  3.511500e+04  3.887230e+05   \n",
      "\n",
      "            pmdec_y      sigpmdec        ext_flg  \n",
      "count  6.514839e+06  6.514839e+06   6.514839e+06  \n",
      "mean   1.044035e+00  3.782382e+02  4.925834e-321  \n",
      "std    4.439354e+02  4.939497e+02   0.000000e+00  \n",
      "min   -3.746500e+04  0.000000e+00   0.000000e+00  \n",
      "25%   -1.590000e+02  1.360000e+02   0.000000e+00  \n",
      "50%    5.000000e+00  2.590000e+02   0.000000e+00  \n",
      "75%    1.580000e+02  5.220000e+02   0.000000e+00  \n",
      "max    4.772500e+04  4.369460e+05  3.038652e-319  \n",
      "\n",
      "[8 rows x 100 columns]\n"
     ]
    }
   ],
   "source": [
    "print(alldata.describe())"
   ]
  },
  {
   "cell_type": "code",
   "execution_count": 5,
   "metadata": {},
   "outputs": [],
   "source": [
    "alldata.objtype = alldata.objtype.str.decode(\"utf-8\")"
   ]
  },
  {
   "attachments": {},
   "cell_type": "markdown",
   "metadata": {},
   "source": [
    "Labelling stars:"
   ]
  },
  {
   "cell_type": "code",
   "execution_count": 6,
   "metadata": {},
   "outputs": [
    {
     "name": "stderr",
     "output_type": "stream",
     "text": [
      "/var/folders/cy/swdgrmf55qdb3yq15_z06q7c0000gn/T/ipykernel_5590/914444794.py:1: SettingWithCopyWarning: \n",
      "A value is trying to be set on a copy of a slice from a DataFrame\n",
      "\n",
      "See the caveats in the documentation: https://pandas.pydata.org/pandas-docs/stable/user_guide/indexing.html#returning-a-view-versus-a-copy\n",
      "  alldata.objtype[np.abs(alldata.parallax_over_error) > 3*np.std(alldata.parallax_over_error)] = 'Star'\n",
      "/var/folders/cy/swdgrmf55qdb3yq15_z06q7c0000gn/T/ipykernel_5590/914444794.py:2: SettingWithCopyWarning: \n",
      "A value is trying to be set on a copy of a slice from a DataFrame\n",
      "\n",
      "See the caveats in the documentation: https://pandas.pydata.org/pandas-docs/stable/user_guide/indexing.html#returning-a-view-versus-a-copy\n",
      "  alldata.objtype[np.abs(alldata.pm/alldata.pmra_error) > 3*np.std(alldata.pm/alldata.pmra_error)] = 'Star'\n",
      "/var/folders/cy/swdgrmf55qdb3yq15_z06q7c0000gn/T/ipykernel_5590/914444794.py:3: SettingWithCopyWarning: \n",
      "A value is trying to be set on a copy of a slice from a DataFrame\n",
      "\n",
      "See the caveats in the documentation: https://pandas.pydata.org/pandas-docs/stable/user_guide/indexing.html#returning-a-view-versus-a-copy\n",
      "  alldata.objtype[np.abs(alldata.pm/alldata.pmdec_error) > 3*np.std(alldata.pm/alldata.pmdec_error)] = 'Star'\n"
     ]
    }
   ],
   "source": [
    "\n",
    "alldata.objtype[np.abs(alldata.parallax_over_error) > 3*np.std(alldata.parallax_over_error)] = 'Star'\n",
    "alldata.objtype[np.abs(alldata.pm/alldata.pmra_error) > 3*np.std(alldata.pm/alldata.pmra_error)] = 'Star'\n",
    "alldata.objtype[np.abs(alldata.pm/alldata.pmdec_error) > 3*np.std(alldata.pm/alldata.pmdec_error)] = 'Star'"
   ]
  },
  {
   "attachments": {},
   "cell_type": "markdown",
   "metadata": {},
   "source": [
    "Check the different classes within the data:"
   ]
  },
  {
   "cell_type": "code",
   "execution_count": 7,
   "metadata": {},
   "outputs": [
    {
     "name": "stdout",
     "output_type": "stream",
     "text": [
      "[' ' 'BLLac' 'EmLines' 'Extended?' 'Galaxy' 'QSO' 'Star' 'Type2'\n",
      " 'Uncertain']\n",
      "[-1 0 1 2 3 4 5 6 7]\n"
     ]
    }
   ],
   "source": [
    "print(np.unique(alldata[\"objtype\"]))\n",
    "for u, uni in enumerate(np.unique(alldata[\"objtype\"])):\n",
    "    alldata[alldata[\"objtype\"] == uni] = u -1\n",
    "print(np.unique(alldata[\"objtype\"]))"
   ]
  },
  {
   "attachments": {},
   "cell_type": "markdown",
   "metadata": {},
   "source": [
    "Split the data into unclassified and classified data:"
   ]
  },
  {
   "cell_type": "code",
   "execution_count": 8,
   "metadata": {},
   "outputs": [
    {
     "name": "stdout",
     "output_type": "stream",
     "text": [
      "7371992 437026\n",
      "['qid', 'RAd', 'DECd', 'objtype', 'z_spec', 'Q1_SkyM11_mag_u', 'Q1_SkyM11_mag_v', 'Q1_SkyM11_mag_g', 'Q1_SkyM11_mag_r', 'Q1_SkyM11_mag_i', 'Q1_SkyM11_mag_z', 'Q1_SkyM3_mag_u', 'Q1_SkyM3_mag_v', 'Q1_SkyM3_mag_g', 'Q1_SkyM3_mag_r', 'Q1_SkyM3_mag_i', 'Q1_SkyM3_mag_z', 'PanSTARRS1DR2_mag_g', 'PanSTARRS1DR2_mag_r', 'PanSTARRS1DR2_mag_i', 'PanSTARRS1DR2_mag_z', 'PanSTARRS1DR2_mag_Y', 'DES_Y3_Gold_mag_g', 'DES_Y3_Gold_mag_r', 'DES_Y3_Gold_mag_i', 'DES_Y3_Gold_mag_z', 'DES_Y3_Gold_mag_Y', 'gaia_G', 'gaia_RP', 'gaia_BP', 'wise_w1', 'wise_w2', 'wise_w3', 'wise_w4', 'wise12_w1', 'wise12_w2', 'gaia_match', 'gaia_double', 'panstarrs_match', 'panstarrs_double', 'wise_match', 'wise_double', '_id_x', 'ra_x', 'dec_x', 'ra_error', 'dec_error', 'source_id_x', 'pmra_x', 'pmdec_x', 'pm', 'pmra_error', 'pmdec_error', 'parallax', 'parallax_error', 'parallax_over_error', 'phot_bp_mean_mag', 'phot_bp_mean_flux', 'phot_bp_mean_flux_error', 'phot_rp_mean_mag', 'phot_rp_mean_flux', 'phot_rp_mean_flux_error', 'phot_g_mean_mag', 'phot_g_mean_flux', 'phot_g_mean_flux_error', '_id_y', 'objName', 'objID', 'objInfoFlag', 'qualityFlag', 'raStack', 'decStack', 'gPSFMag', 'gPSFMagErr', 'rPSFMag', 'rPSFMagErr', 'iPSFMag', 'iPSFMagErr', 'zPSFMag', 'zPSFMagErr', 'yPSFMag', 'yPSFMagErr', '_id', 'ra_y', 'dec_y', 'source_id_y', 'w1mpro', 'w1sigmpro', 'w1snr', 'w2mpro', 'w2sigmpro', 'w2snr', 'w3mpro', 'w3sigmpro', 'w3snr', 'w4mpro', 'w4sigmpro', 'w4snr', 'pmra_y', 'sigpmra', 'pmdec_y', 'sigpmdec', 'ext_flg', 'var_flg']\n"
     ]
    }
   ],
   "source": [
    "unclass_data = alldata[alldata.objtype == -1]\n",
    "class_data = alldata[alldata.objtype != -1]\n",
    "print(len(unclass_data), len(class_data))\n",
    "print(class_data.keys().to_list())"
   ]
  },
  {
   "cell_type": "code",
   "execution_count": 9,
   "metadata": {},
   "outputs": [],
   "source": [
    "features = ['w1mpro','w2mpro','w3mpro',\n",
    "            'gPSFMag','rPSFMag','iPSFMag','zPSFMag','yPSFMag',\n",
    "            'phot_rp_mean_mag','phot_g_mean_mag','phot_bp_mean_mag']\n",
    "target = 'objtype'\n",
    "for f in features:\n",
    "    class_data = class_data[np.abs(class_data[f]) < 50]\n",
    "class_features = class_data[features].to_numpy()\n",
    "class_targets = class_data[target].to_numpy()"
   ]
  },
  {
   "cell_type": "code",
   "execution_count": 10,
   "metadata": {},
   "outputs": [
    {
     "name": "stdout",
     "output_type": "stream",
     "text": [
      "87406 87406\n",
      "[0 1 2 3 4 5 6 7]\n"
     ]
    }
   ],
   "source": [
    "rs = 27\n",
    "model = xgb.XGBClassifier()\n",
    "Xtrain, Xtest, ytrain, ytest = train_test_split(class_features, class_targets, \n",
    "                                                random_state=rs, test_size=0.2, train_size=0.8)\n",
    "print(len(Xtest),len(ytest))\n",
    "print(np.unique(ytest))"
   ]
  },
  {
   "cell_type": "code",
   "execution_count": 11,
   "metadata": {},
   "outputs": [
    {
     "name": "stdout",
     "output_type": "stream",
     "text": [
      "8\n"
     ]
    }
   ],
   "source": [
    "num_class = len(np.unique(class_data[\"objtype\"]))\n",
    "print(num_class)\n",
    "param = {'max_depth': 20, \n",
    "         'objective': 'multi:softprob', \n",
    "         'eval_metric':'mlogloss',\n",
    "         'num_class': num_class}"
   ]
  },
  {
   "cell_type": "code",
   "execution_count": 12,
   "metadata": {},
   "outputs": [
    {
     "name": "stdout",
     "output_type": "stream",
     "text": [
      "[0 1 2 3 4 5 6 7]\n"
     ]
    }
   ],
   "source": [
    "Dtrain = xgb.DMatrix(Xtrain, label=ytrain)\n",
    "Dtest = xgb.DMatrix(Xtest, label=ytest)\n",
    "print(np.unique(ytrain))"
   ]
  },
  {
   "cell_type": "code",
   "execution_count": 13,
   "metadata": {},
   "outputs": [],
   "source": [
    "model = xgb.train(dtrain=Dtrain,num_boost_round=20,params=param)"
   ]
  },
  {
   "cell_type": "code",
   "execution_count": 14,
   "metadata": {},
   "outputs": [
    {
     "name": "stdout",
     "output_type": "stream",
     "text": [
      "[[   35     0     0     0     0     0     0     0]\n",
      " [    0     9     0     0     0     0     0     0]\n",
      " [    0     0 24671     0     0     0     0     0]\n",
      " [    0     0     0  3813     0     0     0     0]\n",
      " [    0     0     0     0  3473     0     0     0]\n",
      " [    0     0     0     0     0 54996     0     0]\n",
      " [    0     0     0     0     0     0   408     0]\n",
      " [    0     0     0     0     0     0     0     1]]\n",
      "Precision = 1.0\n",
      "Recall = 1.0\n",
      "Accuracy = 1.0\n"
     ]
    }
   ],
   "source": [
    "preds = model.predict(Dtest)\n",
    "best_preds = [np.argmax(line) for line in preds]\n",
    "\n",
    "cf = confusion_matrix(ytest.tolist(), best_preds)\n",
    "print(cf)\n",
    "\n",
    "print(\"Precision = {}\".format(precision_score(ytest.tolist(), best_preds, average='macro')))\n",
    "print(\"Recall = {}\".format(recall_score(ytest.tolist(), best_preds, average='macro')))\n",
    "print(\"Accuracy = {}\".format(accuracy_score(ytest.tolist(), best_preds)))"
   ]
  },
  {
   "cell_type": "code",
   "execution_count": null,
   "metadata": {},
   "outputs": [],
   "source": []
  }
 ],
 "metadata": {
  "kernelspec": {
   "display_name": "daglig39",
   "language": "python",
   "name": "python3"
  },
  "language_info": {
   "codemirror_mode": {
    "name": "ipython",
    "version": 3
   },
   "file_extension": ".py",
   "mimetype": "text/x-python",
   "name": "python",
   "nbconvert_exporter": "python",
   "pygments_lexer": "ipython3",
   "version": "3.9.16"
  },
  "orig_nbformat": 4
 },
 "nbformat": 4,
 "nbformat_minor": 2
}
