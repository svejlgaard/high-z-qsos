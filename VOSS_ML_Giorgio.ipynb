{
 "cells": [
  {
   "cell_type": "markdown",
   "id": "92e16102-f429-4e27-9e9e-2019504c4f55",
   "metadata": {},
   "source": [
    "# Identify high-z QSOs in photmetirc datasets"
   ]
  },
  {
   "cell_type": "code",
   "execution_count": 1,
   "id": "5053553f-d3ae-4946-9486-f426ba10f5ba",
   "metadata": {
    "tags": []
   },
   "outputs": [],
   "source": [
    "import os\n",
    "import numpy as np\n",
    "import matplotlib.pyplot as plt\n",
    "import astropy\n",
    "from astropy.io import fits\n",
    "from astropy.table import Table\n",
    "from collections import Counter"
   ]
  },
  {
   "cell_type": "code",
   "execution_count": 2,
   "id": "43c609d0-033a-44e9-a526-8d92192ca649",
   "metadata": {
    "tags": []
   },
   "outputs": [],
   "source": [
    "os.chdir('/data/VOSS23')"
   ]
  },
  {
   "cell_type": "markdown",
   "id": "7ad66398-4e0e-45e7-adbd-e709ef73c695",
   "metadata": {},
   "source": [
    "## Load data (big table)"
   ]
  },
  {
   "cell_type": "code",
   "execution_count": 3,
   "id": "c9c6d7d4-d40b-42fe-b43a-96082246d022",
   "metadata": {
    "tags": []
   },
   "outputs": [
    {
     "name": "stdout",
     "output_type": "stream",
     "text": [
      "Reading VOSS23_BigTable1.fits.gz\n",
      "Reading VOSS23_BigTable2.fits.gz\n",
      "Reading VOSS23_BigTable3.fits.gz\n",
      "Reading VOSS23_BigTable4.fits.gz\n",
      "Reading VOSS23_BigTable5.fits.gz\n",
      "Reading VOSS23_BigTable6.fits.gz\n",
      "Reading VOSS23_BigTable7.fits.gz\n",
      "Reading VOSS23_BigTable8.fits.gz\n"
     ]
    }
   ],
   "source": [
    "bigtable = []\n",
    "for filename in os.listdir('.'):\n",
    "    if 'VOSS23_BigTable' in filename:\n",
    "        print('Reading', filename)\n",
    "        hdul = astropy.io.fits.open(filename)\n",
    "        data = astropy.table.Table.read(hdul[1])\n",
    "        data.meta.clear()  # Avoid warnings when merging meta\n",
    "        bigtable.append(data)\n",
    "bigtable = astropy.table.vstack(bigtable)\n",
    "bigtable['objtype'] = np.char.strip(bigtable['objtype']) #strip blanks"
   ]
  },
  {
   "cell_type": "markdown",
   "id": "6445f3eb-8a48-4841-87e2-9a7a6e0afd5f",
   "metadata": {},
   "source": [
    "### Know your data!"
   ]
  },
  {
   "cell_type": "code",
   "execution_count": 4,
   "id": "146c9ce1-134f-49a2-adbe-f26d144eaced",
   "metadata": {
    "tags": []
   },
   "outputs": [
    {
     "data": {
      "text/html": [
       "<div><i>Table length=7810114</i>\n",
       "<table id=\"table140129670641312\" class=\"table-striped table-bordered table-condensed\">\n",
       "<thead><tr><th>qid</th><th>RAd</th><th>DECd</th><th>objtype</th><th>z_spec</th><th>gaia_id</th><th>pmra</th><th>pmdec</th><th>pm</th><th>pmra_error</th><th>pmdec_error</th><th>parallax_over_error</th><th>phot_bp_mean_mag</th><th>phot_rp_mean_mag</th><th>phot_g_mean_mag</th><th>wise_id</th><th>w1mpro</th><th>w2mpro</th><th>w3mpro</th><th>w4mpro</th><th>pans_id</th><th>gPSFMag</th><th>rPSFMag</th><th>iPSFMag</th><th>zPSFMag</th><th>yPSFMag</th></tr></thead>\n",
       "<thead><tr><th>int64[1]</th><th>float64[1]</th><th>float64[1]</th><th>str8</th><th>float32[1]</th><th>int64[1]</th><th>float64[1]</th><th>float64[1]</th><th>float32[1]</th><th>float32[1]</th><th>float32[1]</th><th>float32[1]</th><th>float32[1]</th><th>float32[1]</th><th>float32[1]</th><th>int64[1]</th><th>float32[1]</th><th>float32[1]</th><th>float32[1]</th><th>float32[1]</th><th>int64[1]</th><th>float64[1]</th><th>float64[1]</th><th>float64[1]</th><th>float64[1]</th><th>float64[1]</th></tr></thead>\n",
       "<tr><td>20980005</td><td>309.6284631561126</td><td>-25.43884947678723</td><td>Star</td><td>--</td><td>14074140</td><td>2.0603751134756254</td><td>-2.1256130838115306</td><td>2.9603</td><td>0.0718607</td><td>0.0624142</td><td>11.7142</td><td>17.7311</td><td>16.3309</td><td>17.0846</td><td>735856251</td><td>14.696</td><td>14.762</td><td>12.441</td><td>8.846</td><td>18675517</td><td>17.95789909362793</td><td>17.05500030517578</td><td>16.699600219726562</td><td>16.609800338745117</td><td>16.336999893188477</td></tr>\n",
       "<tr><td>28443138</td><td>358.8349544348019</td><td>-21.10044037697573</td><td>Star</td><td>--</td><td>23419137</td><td>29.682608262496313</td><td>-16.45055637558464</td><td>33.9364</td><td>0.159776</td><td>0.12759</td><td>10.643</td><td>19.0752</td><td>17.027</td><td>18.0174</td><td>249299010</td><td>14.804</td><td>14.763</td><td>12.573</td><td>9.046</td><td>26259440</td><td>19.35260009765625</td><td>18.17840003967285</td><td>17.40130043029785</td><td>17.035900115966797</td><td>16.863100051879883</td></tr>\n",
       "<tr><td>6971647</td><td>170.51112225797812</td><td>-18.808950719447544</td><td>Star</td><td>--</td><td>7787223</td><td>-16.449670393171726</td><td>0.4281318081068334</td><td>16.4552</td><td>0.0440459</td><td>0.0330324</td><td>12.0587</td><td>16.3822</td><td>15.5985</td><td>16.0783</td><td>366699122</td><td>14.608</td><td>14.671</td><td>12.303</td><td>8.861</td><td>4365788</td><td>16.61590003967285</td><td>16.042200088500977</td><td>15.890199661254883</td><td>15.818499565124512</td><td>15.8125</td></tr>\n",
       "<tr><td>30839426</td><td>59.0739288</td><td>10.7331647</td><td>Star</td><td>--</td><td>117500651</td><td>0.38058238231466385</td><td>-3.69963547259921</td><td>3.71916</td><td>0.0690588</td><td>0.049467</td><td>3.81315</td><td>17.0005</td><td>15.9675</td><td>16.5673</td><td>340034728</td><td>14.64</td><td>14.618</td><td>12.504</td><td>8.588</td><td>28747168</td><td>17.037200927734375</td><td>16.527299880981445</td><td>16.354700088500977</td><td>16.179000854492188</td><td>16.180099487304688</td></tr>\n",
       "<tr><td>3417102</td><td>138.71368000524</td><td>-8.49101800127327</td><td>Star</td><td>--</td><td>29802627</td><td>-2.6235620222280334</td><td>-4.683156863216182</td><td>5.36796</td><td>0.155761</td><td>0.129209</td><td>1.80698</td><td>19.1639</td><td>17.7185</td><td>18.479</td><td>611163634</td><td>15.867</td><td>16.142</td><td>12.329</td><td>9.009</td><td>722215</td><td>19.235000610351562</td><td>18.46929931640625</td><td>18.05699920654297</td><td>17.9064998626709</td><td>17.827899932861328</td></tr>\n",
       "<tr><td>6457883</td><td>166.31444310060354</td><td>-9.613649394213933</td><td>Star</td><td>--</td><td>12802919</td><td>-8.985552231757383</td><td>-2.754729146408433</td><td>9.39833</td><td>0.0806062</td><td>0.067881</td><td>2.92693</td><td>17.229</td><td>16.4216</td><td>16.9181</td><td>385485715</td><td>15.454</td><td>15.354</td><td>12.609</td><td>8.859</td><td>3836957</td><td>17.273000717163086</td><td>16.868099212646484</td><td>16.816200256347656</td><td>16.71929931640625</td><td>16.67799949645996</td></tr>\n",
       "<tr><td>...</td><td>...</td><td>...</td><td>...</td><td>...</td><td>...</td><td>...</td><td>...</td><td>...</td><td>...</td><td>...</td><td>...</td><td>...</td><td>...</td><td>...</td><td>...</td><td>...</td><td>...</td><td>...</td><td>...</td><td>...</td><td>...</td><td>...</td><td>...</td><td>...</td><td>...</td></tr>\n",
       "<tr><td>33375598</td><td>71.43007042</td><td>2.54713923</td><td></td><td>--</td><td>127393176</td><td>--</td><td>--</td><td>--</td><td>--</td><td>--</td><td>--</td><td>18.1715</td><td>16.4645</td><td>20.001</td><td>0</td><td>--</td><td>--</td><td>--</td><td>--</td><td>31354752</td><td>18.646699905395508</td><td>17.752599716186523</td><td>17.20989990234375</td><td>16.88920021057129</td><td>16.702299118041992</td></tr>\n",
       "<tr><td>33375600</td><td>72.53192628</td><td>2.54132884</td><td>Star</td><td>--</td><td>123612751</td><td>1.7653624762972873</td><td>0.35850922343317226</td><td>1.8014</td><td>0.335337</td><td>0.264918</td><td>-0.101078</td><td>19.8911</td><td>18.5198</td><td>19.1958</td><td>0</td><td>--</td><td>--</td><td>--</td><td>--</td><td>31354754</td><td>20.086200714111328</td><td>19.222999572753906</td><td>18.821500778198242</td><td>18.63129997253418</td><td>18.478700637817383</td></tr>\n",
       "<tr><td>33375605</td><td>70.991666</td><td>2.470805</td><td>Star</td><td>--</td><td>123612808</td><td>-0.15347800951671908</td><td>-1.1153017523904376</td><td>1.12581</td><td>0.336358</td><td>0.279511</td><td>2.03211</td><td>19.9132</td><td>18.1906</td><td>19.1977</td><td>333961005</td><td>16.052</td><td>16.129</td><td>11.95</td><td>8.784</td><td>31354760</td><td>20.410900115966797</td><td>19.295400619506836</td><td>18.589799880981445</td><td>18.283599853515625</td><td>18.09749984741211</td></tr>\n",
       "<tr><td>33375607</td><td>71.5201129</td><td>2.4706793</td><td>Star</td><td>--</td><td>126386080</td><td>0.724877721719407</td><td>-2.6094212215403</td><td>2.70823</td><td>0.509208</td><td>0.42954</td><td>2.52544</td><td>20.0444</td><td>18.3291</td><td>19.8161</td><td>333955671</td><td>15.225</td><td>14.818</td><td>11.448</td><td>8.386</td><td>31354762</td><td>20.29560089111328</td><td>19.385000228881836</td><td>18.806699752807617</td><td>18.427200317382812</td><td>18.296300888061523</td></tr>\n",
       "<tr><td>33375612</td><td>72.6724711</td><td>2.54370355</td><td>Star</td><td>--</td><td>126879183</td><td>2.1104881857510214</td><td>1.7842895820389404</td><td>2.76367</td><td>0.548153</td><td>0.458631</td><td>2.2896</td><td>20.7978</td><td>18.8338</td><td>19.9259</td><td>0</td><td>--</td><td>--</td><td>--</td><td>--</td><td>31354767</td><td>21.72909927368164</td><td>20.3351993560791</td><td>19.322599411010742</td><td>18.72610092163086</td><td>18.476200103759766</td></tr>\n",
       "<tr><td>33375620</td><td>72.82600791</td><td>2.57266684</td><td></td><td>--</td><td>134464047</td><td>--</td><td>--</td><td>--</td><td>--</td><td>--</td><td>--</td><td>18.8963</td><td>17.8301</td><td>21.2681</td><td>0</td><td>--</td><td>--</td><td>--</td><td>--</td><td>31354776</td><td>18.98110008239746</td><td>18.638399124145508</td><td>18.583200454711914</td><td>18.410200119018555</td><td>18.24880027770996</td></tr>\n",
       "<tr><td>33375631</td><td>71.2800782</td><td>2.5433519</td><td>Star</td><td>--</td><td>122496596</td><td>2.077032352371055</td><td>-0.8808490464161116</td><td>2.25609</td><td>0.231631</td><td>0.210456</td><td>0.214037</td><td>19.303</td><td>18.1727</td><td>18.8319</td><td>333957228</td><td>16.985</td><td>16.819</td><td>11.708</td><td>8.592</td><td>31354787</td><td>19.432600021362305</td><td>18.81399917602539</td><td>18.53849983215332</td><td>18.458900451660156</td><td>18.421199798583984</td></tr>\n",
       "</table></div>"
      ],
      "text/plain": [
       "<Table length=7810114>\n",
       "  qid           RAd         ...      zPSFMag            yPSFMag      \n",
       "int64[1]     float64[1]     ...     float64[1]         float64[1]    \n",
       "-------- ------------------ ... ------------------ ------------------\n",
       "20980005  309.6284631561126 ... 16.609800338745117 16.336999893188477\n",
       "28443138  358.8349544348019 ... 17.035900115966797 16.863100051879883\n",
       " 6971647 170.51112225797812 ... 15.818499565124512            15.8125\n",
       "30839426         59.0739288 ... 16.179000854492188 16.180099487304688\n",
       " 3417102    138.71368000524 ...   17.9064998626709 17.827899932861328\n",
       " 6457883 166.31444310060354 ...  16.71929931640625  16.67799949645996\n",
       "     ...                ... ...                ...                ...\n",
       "33375598        71.43007042 ...  16.88920021057129 16.702299118041992\n",
       "33375600        72.53192628 ...  18.63129997253418 18.478700637817383\n",
       "33375605          70.991666 ... 18.283599853515625  18.09749984741211\n",
       "33375607         71.5201129 ... 18.427200317382812 18.296300888061523\n",
       "33375612         72.6724711 ...  18.72610092163086 18.476200103759766\n",
       "33375620        72.82600791 ... 18.410200119018555  18.24880027770996\n",
       "33375631         71.2800782 ... 18.458900451660156 18.421199798583984"
      ]
     },
     "execution_count": 4,
     "metadata": {},
     "output_type": "execute_result"
    }
   ],
   "source": [
    "bigtable"
   ]
  },
  {
   "cell_type": "code",
   "execution_count": 5,
   "id": "50b922a1-5a6c-4ba3-8325-eb94ad82cc5e",
   "metadata": {
    "tags": []
   },
   "outputs": [
    {
     "data": {
      "text/plain": [
       "Counter({'Star': 5960751,\n",
       "         '': 1678433,\n",
       "         'Galaxy': 150581,\n",
       "         'other': 2172,\n",
       "         'QSOlowZ': 16274,\n",
       "         'QSOhighZ': 1903})"
      ]
     },
     "execution_count": 5,
     "metadata": {},
     "output_type": "execute_result"
    }
   ],
   "source": [
    "Counter(bigtable['objtype'])"
   ]
  },
  {
   "cell_type": "code",
   "execution_count": 6,
   "id": "e1069cc2-0f95-41d2-b278-928685c77d16",
   "metadata": {
    "tags": []
   },
   "outputs": [
    {
     "name": "stdout",
     "output_type": "stream",
     "text": [
      "Column               | Type       |        Min |        Max |       Mean |   %NaN\n",
      "qid                  | int64      |       9369 |  3.338e+07 |  1.744e+07 |   0.00\n",
      "RAd                  | float64    |   1.31e-05 |        360 |      198.1 |   0.00\n",
      "DECd                 | float64    |     -30.96 |         15 |     -7.787 |   0.00\n",
      "objtype              | <U8        | skipped\n",
      "z_spec               | float32    |    -0.0016 |       5.17 |      0.627 |  99.50\n",
      "gaia_id              | int64      |          0 |   1.35e+08 |  6.762e+07 |   0.00\n",
      "pmra                 | float64    |     -342.9 |      369.4 |     -1.659 |  20.32\n",
      "pmdec                | float64    |       -330 |      463.9 |     -4.856 |  20.32\n",
      "pm                   | float32    |   0.001329 |      463.9 |      11.02 |  20.32\n",
      "pmra_error           | float32    |   0.006285 |       3.21 |     0.2579 |  20.32\n",
      "pmdec_error          | float32    |   0.006314 |      3.132 |     0.2143 |  20.32\n",
      "parallax_over_error  | float32    |      -22.2 |       1487 |      8.249 |  20.32\n",
      "phot_bp_mean_mag     | float32    |      10.36 |       24.9 |       18.9 |   0.67\n",
      "phot_rp_mean_mag     | float32    |      8.939 |      22.56 |       17.3 |   0.66\n",
      "phot_g_mean_mag      | float32    |      10.03 |      22.66 |      18.57 |   0.51\n",
      "wise_id              | int64      |          0 |  7.476e+08 |  3.579e+08 |   0.00\n",
      "w1mpro               | float32    |      2.101 |      18.04 |      15.02 |  16.57\n",
      "w2mpro               | float32    |     -0.836 |      17.91 |      14.98 |  16.57\n",
      "w3mpro               | float32    |     -1.728 |      16.49 |      12.24 |  16.67\n",
      "w4mpro               | float32    |     -3.181 |      9.846 |      8.796 |  16.61\n",
      "pans_id              | int64      |          0 |  3.135e+07 |   1.58e+07 |   0.00\n",
      "gPSFMag              | float64    |      6.847 |      35.33 |      19.19 |   0.19\n",
      "rPSFMag              | float64    |      3.369 |      35.62 |      18.31 |   0.13\n",
      "iPSFMag              | float64    |      9.015 |      33.02 |      17.74 |   0.09\n",
      "zPSFMag              | float64    |      9.413 |      30.55 |      17.48 |   0.08\n",
      "yPSFMag              | float64    |         14 |       18.5 |      17.31 |   0.01\n",
      "Number of rows: 7810114\n"
     ]
    }
   ],
   "source": [
    "print(\"%-20s | %-10s | %10s | %10s | %10s | %6s\" % ('Column', 'Type', 'Min', 'Max', 'Mean', '%NaN'))\n",
    "for col in bigtable.colnames:\n",
    "    vv = bigtable[col].value\n",
    "    if col == 'objtype':\n",
    "        print('%-20s | %-10s | skipped' % (col, vv.dtype))\n",
    "        continue\n",
    "    print(\"%-20s | %-10s | %10.4g | %10.4g | %10.4g | %6.2f\" % (col, vv.dtype,\n",
    "                                              np.min(vv), np.max(vv), np.mean(vv),\n",
    "                                              np.count_nonzero(np.isnan(vv)) / len(bigtable) * 100))\n",
    "print('Number of rows:', len(bigtable))"
   ]
  },
  {
   "cell_type": "markdown",
   "id": "d45c0f9a-3444-4ab7-a19f-449697813856",
   "metadata": {},
   "source": [
    "## Prepare features and labels"
   ]
  },
  {
   "cell_type": "code",
   "execution_count": 7,
   "id": "0399522a-47aa-4c14-b0f2-6fc094da348e",
   "metadata": {
    "tags": []
   },
   "outputs": [],
   "source": [
    "# Index of known and unclassified rows\n",
    "iknown        = np.where(bigtable['objtype'] != '')[0]\n",
    "iunclassified = np.where(bigtable['objtype'] == '')[0]\n",
    "\n",
    "# Numerical features\n",
    "features = np.hstack((bigtable['phot_bp_mean_mag'].value,\n",
    "                      bigtable['phot_rp_mean_mag'].value,\n",
    "                      bigtable['phot_g_mean_mag'].value,\n",
    "                      bigtable['wise_id'].value,\n",
    "                      bigtable['w1mpro'].value,\n",
    "                      bigtable['w2mpro'].value,\n",
    "                      bigtable['w3mpro'].value,\n",
    "                      bigtable['w4mpro'].value,\n",
    "                      bigtable['pans_id'].value,\n",
    "                      bigtable['gPSFMag'].value,\n",
    "                      bigtable['rPSFMag'].value,\n",
    "                      bigtable['iPSFMag'].value,\n",
    "                      bigtable['zPSFMag'].value,\n",
    "                      bigtable['yPSFMag'].value))\n",
    "\n",
    "# Label <-> number mapping. Note: XGBoost requires labels in the range [0, num_class)\n",
    "label2num_map = {'QSOhighZ': 0, 'QSOlowZ': 1, 'Star': 2, 'Galaxy': 3, 'other': 4}\n",
    "num2label_map = dict(zip(label2num_map.values(), label2num_map.keys()))\n",
    "\n",
    "# Labels in the \"known\" dataset\n",
    "nlabels = np.asarray([label2num_map[l] for l in bigtable['objtype'][iknown]])"
   ]
  },
  {
   "cell_type": "markdown",
   "id": "0a65375d-b3f6-4006-9536-c7e461322c2a",
   "metadata": {},
   "source": [
    "## Classification with XGBoost"
   ]
  },
  {
   "cell_type": "code",
   "execution_count": 8,
   "id": "13690c1c-fcfb-40d3-9411-a5a8197ff520",
   "metadata": {
    "tags": []
   },
   "outputs": [
    {
     "name": "stdout",
     "output_type": "stream",
     "text": [
      "1.7.6\n"
     ]
    }
   ],
   "source": [
    "# from sklearn import datasets\n",
    "from sklearn.model_selection import train_test_split\n",
    "from sklearn.metrics import precision_score, recall_score, accuracy_score\n",
    "import xgboost as xgb\n",
    "print(xgb.__version__)"
   ]
  },
  {
   "cell_type": "markdown",
   "id": "1074ce30-51bb-4eaf-b751-78fd962c9c52",
   "metadata": {},
   "source": [
    "### Train / test split"
   ]
  },
  {
   "cell_type": "code",
   "execution_count": 9,
   "id": "c7f0285a-dd40-4842-94a6-1e257e2eac2a",
   "metadata": {
    "tags": []
   },
   "outputs": [],
   "source": [
    "features_train, features_test, nlabels_train, nlabels_test = train_test_split(features[iknown], nlabels, \n",
    "                                                                              test_size=0.2, random_state=1, stratify=nlabels)"
   ]
  },
  {
   "cell_type": "markdown",
   "id": "ff8f18a4-7d14-4ed3-a96c-687590eb517c",
   "metadata": {},
   "source": [
    "Is the train / test split stratified?"
   ]
  },
  {
   "cell_type": "code",
   "execution_count": 10,
   "id": "6aa86b93-b93b-4717-a9dd-38e9e64656df",
   "metadata": {
    "tags": []
   },
   "outputs": [
    {
     "name": "stdout",
     "output_type": "stream",
     "text": [
      "Train test size:  4905344 0.7999998695300685\n",
      "Test  test size:  1226337 0.20000013046993148\n",
      "Label           | N_train    | %train |     N_test |  %test\n",
      "QSOhighZ (0)    |       1522 |  0.031 |        381 |  0.031\n",
      "QSOlowZ (1)     |      13019 |  0.265 |       3255 |  0.265\n",
      "Star (2)        |    4768600 |   97.2 |    1192151 | 97.212\n",
      "Galaxy (3)      |     120465 |   2.46 |      30116 |  2.456\n",
      "other (4)       |       1738 | 0.0354 |        434 |  0.035\n",
      "Unclassified:     1678433\n"
     ]
    }
   ],
   "source": [
    "print('Train test size: ', len(nlabels_train), len(nlabels_train) / len(iknown))\n",
    "print('Test  test size: ', len(nlabels_test) , len(nlabels_test)   / len(iknown))\n",
    "print(\"%-15s | %-10s | %6s | %10s | %6s\" % ('Label', 'N_train', '%train', 'N_test', '%test'))\n",
    "for nlabel in label2num_map.values():\n",
    "    Ntrain = np.count_nonzero(nlabels_train == nlabel)\n",
    "    Ntest  = np.count_nonzero(nlabels_test  == nlabel)\n",
    "    print(\"%-15s | %10d | %6.3g | %10d | %6.3f\" % (num2label_map[nlabel] + ' (' + str(nlabel) + ')',\n",
    "                                                   Ntrain, 100 * Ntrain / len(nlabels_train),\n",
    "                                                   Ntest , 100 * Ntest  / len(nlabels_test),))\n",
    "print('Unclassified:    ', len(iunclassified))"
   ]
  },
  {
   "cell_type": "markdown",
   "id": "81267345-011f-4e2e-882c-c673727301b8",
   "metadata": {
    "tags": []
   },
   "source": [
    "### Set hyper-parameters"
   ]
  },
  {
   "cell_type": "code",
   "execution_count": 12,
   "id": "e6935ed7-56fb-4195-84fb-60645077891c",
   "metadata": {
    "tags": []
   },
   "outputs": [],
   "source": [
    "param = {\n",
    "    'max_depth': 10,  \n",
    "    'objective': 'multi:softprob',\n",
    "    'eval_metric': 'mlogloss',\n",
    "    'num_class': len(label2num_map) }   # <-- note here!\n",
    "steps = 10  # The number of training iterations"
   ]
  },
  {
   "cell_type": "markdown",
   "id": "3ad0df11-4924-41ec-8168-887bae42e0ea",
   "metadata": {},
   "source": [
    "### Train model"
   ]
  },
  {
   "cell_type": "code",
   "execution_count": 13,
   "id": "121eb2f2-057f-4ae0-95e5-8b564da1d85f",
   "metadata": {
    "tags": []
   },
   "outputs": [
    {
     "name": "stderr",
     "output_type": "stream",
     "text": [
      "/home/gcalderone/.local/lib/python3.10/site-packages/xgboost/core.py:617: FutureWarning: Pass `evals` as keyword args.\n",
      "  warnings.warn(msg, FutureWarning)\n"
     ]
    },
    {
     "name": "stdout",
     "output_type": "stream",
     "text": [
      "[0]\tTrain-mlogloss:0.94842\tTest-mlogloss:0.94859\n",
      "[1]\tTrain-mlogloss:0.64624\tTest-mlogloss:0.64656\n",
      "[2]\tTrain-mlogloss:0.45867\tTest-mlogloss:0.45912\n",
      "[3]\tTrain-mlogloss:0.33255\tTest-mlogloss:0.33314\n",
      "[4]\tTrain-mlogloss:0.24460\tTest-mlogloss:0.24529\n",
      "[5]\tTrain-mlogloss:0.18193\tTest-mlogloss:0.18272\n",
      "[6]\tTrain-mlogloss:0.13667\tTest-mlogloss:0.13758\n",
      "[7]\tTrain-mlogloss:0.10377\tTest-mlogloss:0.10479\n",
      "[8]\tTrain-mlogloss:0.07967\tTest-mlogloss:0.08082\n",
      "[9]\tTrain-mlogloss:0.06192\tTest-mlogloss:0.06320\n"
     ]
    }
   ],
   "source": [
    "D_train = xgb.DMatrix(features_train, label=nlabels_train)\n",
    "D_test  = xgb.DMatrix(features_test , label=nlabels_test)\n",
    "\n",
    "watchlist = [(D_train, 'Train'), (D_test,'Test')]\n",
    "evals_result = {}\n",
    "model = xgb.train(param, D_train, steps, watchlist, evals_result=evals_result)"
   ]
  },
  {
   "cell_type": "markdown",
   "id": "424fa74c-2634-4de0-a02b-d0a8f15e2c3e",
   "metadata": {
    "tags": []
   },
   "source": [
    "Check for over/under-fitting"
   ]
  },
  {
   "cell_type": "code",
   "execution_count": 14,
   "id": "3bc13c42-baae-4244-802b-1d1ef3437c2d",
   "metadata": {
    "tags": []
   },
   "outputs": [
    {
     "data": {
      "image/png": "[encoded data removed]",
      "text/plain": [
       "<Figure size 640x480 with 1 Axes>"
      ]
     },
     "metadata": {},
     "output_type": "display_data"
    }
   ],
   "source": [
    "for dataset in evals_result.keys():\n",
    "    for metric in evals_result[dataset].keys():\n",
    "        plt.plot(evals_result[dataset][metric], label=dataset + ' (' + metric + ')')\n",
    "plt.xlabel('Steps')\n",
    "plt.ylabel('Metric')\n",
    "plt.yscale(\"log\")\n",
    "plt.legend()\n",
    "plt.show()"
   ]
  },
  {
   "cell_type": "markdown",
   "id": "3e51fb81-12cb-4df1-88b1-cd888b71a4c2",
   "metadata": {
    "tags": []
   },
   "source": [
    "### Predict on test set and evaluate metrics"
   ]
  },
  {
   "cell_type": "code",
   "execution_count": 26,
   "id": "80158ad1-5647-4e7b-9657-ba0d6d81db96",
   "metadata": {
    "tags": []
   },
   "outputs": [
    {
     "name": "stdout",
     "output_type": "stream",
     "text": [
      "Precision = 0.8161054934152462\n",
      "Recall = 0.6443070772606541\n"
     ]
    }
   ],
   "source": [
    "preds = model.predict(D_test)\n",
    "best_preds = np.asarray([np.argmax(line) for line in preds])\n",
    "print(\"Precision = {}\".format(precision_score(nlabels_test, best_preds, average='macro')))\n",
    "print(\"Recall = {}\".format(recall_score(nlabels_test, best_preds, average='macro')))"
   ]
  },
  {
   "cell_type": "markdown",
   "id": "c3defdae-deb8-46de-b85a-396363a7d4cb",
   "metadata": {
    "tags": []
   },
   "source": [
    "Are the above metrics acutally meaningful, or expected, in our case?"
   ]
  },
  {
   "cell_type": "code",
   "execution_count": 18,
   "id": "0ba5f033-8b81-48ab-ad77-b84c78a273a8",
   "metadata": {
    "tags": []
   },
   "outputs": [
    {
     "name": "stdout",
     "output_type": "stream",
     "text": [
      "           |   QSOhighZ |    QSOlowZ |       Star |     Galaxy |      other |      Total |\n",
      "QSOhighZ   |        194 |        136 |         48 |          3 |          0 |        381 | \n",
      "QSOlowZ    |         64 |       2617 |        110 |        464 |          0 |       3255 | \n",
      "Star       |         11 |         64 |    1191830 |        246 |          0 |    1192151 | \n",
      "Galaxy     |          3 |        148 |       3149 |      26809 |          7 |      30116 | \n",
      "other      |          0 |         21 |         10 |        395 |          8 |        434 | \n",
      "Total      |        272 |       2986 |    1195147 |      27917 |         15 | \n",
      "\n",
      "           |   QSOhighZ |    QSOlowZ |       Star |     Galaxy |      other | \n",
      "QSOhighZ   |      71.32 |       4.55 |       0.00 |       0.01 |       0.00 | \n",
      "QSOlowZ    |      23.53 |      87.64 |       0.01 |       1.66 |       0.00 | \n",
      "Star       |       4.04 |       2.14 |      99.72 |       0.88 |       0.00 | \n",
      "Galaxy     |       1.10 |       4.96 |       0.26 |      96.03 |      46.67 | \n",
      "other      |       0.00 |       0.70 |       0.00 |       1.41 |      53.33 | \n",
      "\n",
      "           |   QSOhighZ |    QSOlowZ |       Star |     Galaxy |      other | \n",
      "QSOhighZ   |      50.92 |       4.18 |       0.00 |       0.01 |       0.00 | \n",
      "QSOlowZ    |      16.80 |      80.40 |       0.01 |       1.54 |       0.00 | \n",
      "Star       |       2.89 |       1.97 |      99.97 |       0.82 |       0.00 | \n",
      "Galaxy     |       0.79 |       4.55 |       0.26 |      89.02 |       1.61 | \n",
      "other      |       0.00 |       0.65 |       0.00 |       1.31 |       1.84 | \n",
      "\n"
     ]
    }
   ],
   "source": [
    "P = dict()\n",
    "pP = dict()\n",
    "print(\"%10s | \" % \"\", end='')\n",
    "for pred_nlabel in label2num_map.values():\n",
    "    print(\"%10s | \" % num2label_map[pred_nlabel], end='')\n",
    "print(\"%10s |\" % \"Total\")\n",
    "for true_nlabel in label2num_map.values():\n",
    "    print(\"%-10s | \" % num2label_map[true_nlabel], end='')\n",
    "    for pred_nlabel in label2num_map.values():\n",
    "        nn = np.count_nonzero((nlabels_test == true_nlabel)  &  (best_preds == pred_nlabel))\n",
    "        print(\"%10d | \" % nn, end='')\n",
    "    nn = np.count_nonzero(nlabels_test == true_nlabel)\n",
    "    P[true_nlabel] = nn\n",
    "    print(\"%10d | \" % nn)\n",
    "print(\"%-10s | \" % \"Total\", end='')\n",
    "for pred_nlabel in label2num_map.values():\n",
    "    nn = np.count_nonzero(best_preds == pred_nlabel)\n",
    "    pP[pred_nlabel] = nn\n",
    "    print(\"%10d | \" % nn, end='')\n",
    "print()\n",
    "print()\n",
    "\n",
    "for norm in [pP, P]:\n",
    "    print(\"%10s | \" % \"\", end='')\n",
    "    for pred_nlabel in label2num_map.values():\n",
    "        print(\"%10s | \" % num2label_map[pred_nlabel], end='')\n",
    "    print()\n",
    "    for true_nlabel in label2num_map.values():\n",
    "        print(\"%-10s | \" % num2label_map[true_nlabel], end='')\n",
    "        for pred_nlabel in label2num_map.values():\n",
    "            nn = np.count_nonzero((nlabels_test == true_nlabel)  &  (best_preds == pred_nlabel))\n",
    "            print(\"%10.2f | \" % (100 * nn / norm[pred_nlabel]), end='')\n",
    "        print()\n",
    "    print()"
   ]
  },
  {
   "cell_type": "code",
   "execution_count": 23,
   "id": "3207921a-41f4-4e58-add2-7ceed513b149",
   "metadata": {
    "tags": []
   },
   "outputs": [
    {
     "name": "stdout",
     "output_type": "stream",
     "text": [
      "Precision = [0.71323529 0.87642331 0.99722461 0.96031092 0.53333333]\n",
      "Recall = [0.50918635 0.80399386 0.99973074 0.89019126 0.01843318]\n"
     ]
    }
   ],
   "source": [
    "print(\"Precision = {}\".format(precision_score(nlabels_test, best_preds, average=None)))\n",
    "print(\"Recall = {}\".format(recall_score(nlabels_test, best_preds, average=None)))"
   ]
  },
  {
   "cell_type": "code",
   "execution_count": null,
   "id": "b0ee5735-84b7-4ad9-be3d-b82ace546cc0",
   "metadata": {},
   "outputs": [],
   "source": []
  }
 ],
 "metadata": {
  "kernelspec": {
   "display_name": "Python 3 (ipykernel)",
   "language": "python",
   "name": "python3"
  },
  "language_info": {
   "codemirror_mode": {
    "name": "ipython",
    "version": 3
   },
   "file_extension": ".py",
   "mimetype": "text/x-python",
   "name": "python",
   "nbconvert_exporter": "python",
   "pygments_lexer": "ipython3",
   "version": "3.10.10"
  }
 },
 "nbformat": 4,
 "nbformat_minor": 5
}
