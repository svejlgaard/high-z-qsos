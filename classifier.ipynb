{
 "cells": [
  {
   "cell_type": "code",
   "execution_count": 51,
   "id": "418b9e56",
   "metadata": {},
   "outputs": [],
   "source": [
    "#Usual importing to start\n",
    "import xgboost as xgb\n",
    "from astropy.io import fits\n",
    "from sklearn.model_selection import train_test_split\n",
    "import numpy as np\n",
    "from sklearn.metrics import precision_score, recall_score, accuracy_score, confusion_matrix\n",
    "import matplotlib.pyplot as plt\n",
    "from sklearn.model_selection import cross_val_score\n",
    "from astropy.table import Table, hstack, vstack\n",
    "from collections import Counter\n",
    "import pandas as pd"
   ]
  },
  {
   "cell_type": "code",
   "execution_count": null,
   "id": "4008a47e",
   "metadata": {},
   "outputs": [],
   "source": [
    "#Open the data\n",
    "data1 = Table.read('big_table_1.fits',format = 'fits')\n",
    "data2 = Table.read('big_table_2.fits',format = 'fits')\n",
    "data3 = Table.read('big_table_3.fits',format = 'fits')\n",
    "data4 = Table.read('big_table_4.fits',format = 'fits')\n",
    "data5 = Table.read('big_table_5.fits',format = 'fits')\n",
    "data6 = Table.read('big_table_6.fits',format = 'fits')\n",
    "data7 = Table.read('big_table_7.fits',format = 'fits')\n",
    "data8 = Table.read('big_table_8.fits',format = 'fits')"
   ]
  },
  {
   "cell_type": "code",
   "execution_count": 2,
   "id": "306e3be2",
   "metadata": {},
   "outputs": [],
   "source": [
    "#Remove sources with proper motion\n",
    "data1 = data1[~(abs(data1['pmra']/data1['pmra_error']) > 3)]\n",
    "data2 = data2[~(abs(data2['pmra']/data2['pmra_error']) > 3)]\n",
    "data3 = data3[~(abs(data3['pmra']/data3['pmra_error']) > 3)]\n",
    "data4 = data4[~(abs(data4['pmra']/data4['pmra_error']) > 3)]\n",
    "data5 = data5[~(abs(data5['pmra']/data5['pmra_error']) > 3)]\n",
    "data6 = data6[~(abs(data6['pmra']/data6['pmra_error']) > 3)]\n",
    "data7 = data7[~(abs(data7['pmra']/data7['pmra_error']) > 3)]\n",
    "data8 = data8[~(abs(data8['pmra']/data8['pmra_error']) > 3)]\n",
    "data1 = data1[~(abs(data1['pmdec']/data1['pmdec_error']) > 3)]\n",
    "data2 = data2[~(abs(data2['pmdec']/data2['pmdec_error']) > 3)]\n",
    "data3 = data3[~(abs(data3['pmdec']/data3['pmdec_error']) > 3)]\n",
    "data4 = data4[~(abs(data4['pmdec']/data4['pmdec_error']) > 3)]\n",
    "data5 = data5[~(abs(data5['pmdec']/data5['pmdec_error']) > 3)]\n",
    "data6 = data6[~(abs(data6['pmdec']/data6['pmdec_error']) > 3)]\n",
    "data7 = data7[~(abs(data7['pmdec']/data7['pmdec_error']) > 3)]\n",
    "data8 = data8[~(abs(data8['pmdec']/data8['pmdec_error']) > 3)]"
   ]
  },
  {
   "cell_type": "code",
   "execution_count": 3,
   "id": "8e2ff19b",
   "metadata": {},
   "outputs": [
    {
     "data": {
      "text/plain": [
       "Counter({'': 1661905,\n",
       "         'Star': 9771,\n",
       "         'Galaxy': 133957,\n",
       "         'other': 2134,\n",
       "         'QSOlowZ': 15912,\n",
       "         'QSOhighZ': 1880})"
      ]
     },
     "execution_count": 3,
     "metadata": {},
     "output_type": "execute_result"
    }
   ],
   "source": [
    "#Combine the data\n",
    "data = vstack([data1,data2,data3,data4,data5,data6,data7,data8],metadata_conflicts = 'silent')\n",
    "\n",
    "#Look at the distribution of object types\n",
    "Counter(data['objtype'])"
   ]
  },
  {
   "cell_type": "code",
   "execution_count": 4,
   "id": "dc9aa87d",
   "metadata": {},
   "outputs": [
    {
     "data": {
      "text/plain": [
       "Counter({'': 1653159,\n",
       "         'Galaxy': 133891,\n",
       "         'other': 2132,\n",
       "         'QSOlowZ': 15887,\n",
       "         'Star': 1056,\n",
       "         'QSOhighZ': 1877})"
      ]
     },
     "execution_count": 4,
     "metadata": {},
     "output_type": "execute_result"
    }
   ],
   "source": [
    "#Remove sources with parallax\n",
    "data = data[~(data['parallax_over_error'] > 3)]\n",
    "\n",
    "#Look at the distribution of object types\n",
    "Counter(data['objtype'])"
   ]
  },
  {
   "cell_type": "code",
   "execution_count": 5,
   "id": "a20bcea2",
   "metadata": {},
   "outputs": [],
   "source": [
    "#Make a dataset from the QSOs alone to use for regression\n",
    "z_data = data[(data['objtype'] == 'QSOlowZ') | (data['objtype'] == 'QSOhighZ')]"
   ]
  },
  {
   "cell_type": "code",
   "execution_count": 15,
   "id": "34e9ed59-5737-418c-8577-4439ecf4ddd2",
   "metadata": {},
   "outputs": [],
   "source": [
    "#Make the colors for the QSOs\n",
    "z_g = np.vstack(z_data['phot_g_mean_mag']+z_data['gPSFMag'])/2\n",
    "z_b_minus_g = np.vstack(z_data['phot_bp_mean_mag'])-z_g\n",
    "z_g_minus_r = z_g-np.vstack(z_data['phot_rp_mean_mag']+z_data['rPSFMag'])/2\n",
    "z_r_minus_i = np.vstack(z_data['phot_rp_mean_mag']+z_data['rPSFMag'])/2-np.vstack(z_data['iPSFMag'])\n",
    "z_i_minus_y = np.vstack(z_data['iPSFMag'])-np.vstack(z_data['yPSFMag'])\n",
    "z_y_minus_w1 = np.vstack(z_data['yPSFMag'])-np.vstack(z_data['w1mpro'])\n",
    "z_w1_minus_w2 = np.vstack(z_data['w1mpro'])-np.vstack(z_data['w2mpro'])\n",
    "z_w2_minus_w3 = np.vstack(z_data['w2mpro'])-np.vstack(z_data['w3mpro'])\n",
    "z_w3_minus_w4 = np.vstack(z_data['w3mpro'])-np.vstack(z_data['w4mpro'])\n",
    "\n",
    "#Put together the data\n",
    "X = np.concatenate((z_g,z_b_minus_g,z_g_minus_r,z_r_minus_i,z_i_minus_y,z_y_minus_w1,z_w1_minus_w2,z_w2_minus_w3,z_w3_minus_w4),axis = 1)\n",
    "y = z_data['z_spec']\n",
    "X_train_z, X_test_z, Y_train_z, Y_test_z = train_test_split(X, y, test_size=0.2)\n",
    "X_train_z = np.vstack(X_train_z)\n",
    "Y_train_z = np.vstack(Y_train_z)\n",
    "X_test_z = np.vstack(X_test_z)\n",
    "Y_test_z = np.vstack(Y_test_z)"
   ]
  },
  {
   "cell_type": "code",
   "execution_count": 16,
   "id": "5efedc28-47f0-42b5-9fa3-3b6b06525012",
   "metadata": {},
   "outputs": [
    {
     "name": "stdout",
     "output_type": "stream",
     "text": [
      "R^2: [0.91758952 0.92071315 0.87173182 0.84481313 0.8667109 ]\n"
     ]
    },
    {
     "data": {
      "image/png": "[encoded data removed]",
      "text/plain": [
       "<Figure size 640x480 with 1 Axes>"
      ]
     },
     "metadata": {},
     "output_type": "display_data"
    }
   ],
   "source": [
    "#Run the model\n",
    "steps = 20  # The number of training iterations\n",
    "model = xgb.XGBRegressor()\n",
    "model.fit(X_train_z,Y_train_z)\n",
    "\n",
    "#Plot predicted vs true\n",
    "preds = model.predict(X_test_z)\n",
    "plt.scatter(Y_test_z,preds)\n",
    "\n",
    "#Cross validate to find R^2\n",
    "scores = cross_val_score(model, X, y, scoring='r2', n_jobs=-1)\n",
    "print('R^2:',scores)"
   ]
  },
  {
   "cell_type": "code",
   "execution_count": 17,
   "id": "c4722bb4-361e-4f5d-91ba-d99dfdca97ed",
   "metadata": {},
   "outputs": [],
   "source": [
    "#Make the colors for the whole sample\n",
    "g = np.vstack(data['phot_g_mean_mag']+data['gPSFMag'])/2\n",
    "b_minus_g = np.vstack(data['phot_bp_mean_mag'])-g\n",
    "g_minus_r = g-np.vstack(data['phot_rp_mean_mag']+data['rPSFMag'])/2\n",
    "r_minus_i = np.vstack(data['phot_rp_mean_mag']+data['rPSFMag'])/2-np.vstack(data['iPSFMag'])\n",
    "i_minus_y = np.vstack(data['iPSFMag'])-np.vstack(data['yPSFMag'])\n",
    "y_minus_w1 = np.vstack(data['yPSFMag'])-np.vstack(data['w1mpro'])\n",
    "w1_minus_w2 = np.vstack(data['w1mpro'])-np.vstack(data['w2mpro'])\n",
    "w2_minus_w3 = np.vstack(data['w2mpro'])-np.vstack(data['w3mpro'])\n",
    "w3_minus_w4 = np.vstack(data['w3mpro'])-np.vstack(data['w4mpro'])"
   ]
  },
  {
   "cell_type": "code",
   "execution_count": 18,
   "id": "5434a749",
   "metadata": {},
   "outputs": [
    {
     "data": {
      "text/plain": [
       "Counter({'': 195190,\n",
       "         'Galaxy': 305,\n",
       "         'QSOhighZ': 1455,\n",
       "         'other': 11,\n",
       "         'QSOlowZ': 216,\n",
       "         'Star': 662})"
      ]
     },
     "execution_count": 18,
     "metadata": {},
     "output_type": "execute_result"
    }
   ],
   "source": [
    "#Put the colors together to make a prediction\n",
    "X_all = np.concatenate((g,b_minus_g,g_minus_r,r_minus_i,i_minus_y,y_minus_w1,w1_minus_w2,w2_minus_w3,w3_minus_w4),axis = 1)\n",
    "\n",
    "#Assign an ostensible z for each source, assuming it is a QSO\n",
    "z_if_qso = model.predict(X_all)\n",
    "\n",
    "#Discard those sources with ostensible z above 2.5\n",
    "data = data[z_if_qso > 2.5]\n",
    "X_all = X_all[z_if_qso > 2.5]\n",
    "z_if_qso = z_if_qso[z_if_qso > 2.5]\n",
    "\n",
    "#Look at the distribution of object types\n",
    "Counter(data['objtype'])"
   ]
  },
  {
   "cell_type": "code",
   "execution_count": 22,
   "id": "ddc55ff2",
   "metadata": {},
   "outputs": [],
   "source": [
    "#Add ostensible z to the input data\n",
    "X_all = np.concatenate((X_all,np.vstack(z_if_qso)),axis = 1)"
   ]
  },
  {
   "cell_type": "code",
   "execution_count": 24,
   "id": "6a92f7d7",
   "metadata": {},
   "outputs": [],
   "source": [
    "#Use only those sources that are labelled\n",
    "X_labelled = X_all[data['objtype'] != '']\n",
    "data_labelled = data[data['objtype'] != '']"
   ]
  },
  {
   "cell_type": "code",
   "execution_count": 36,
   "id": "c0226ba2",
   "metadata": {},
   "outputs": [
    {
     "name": "stdout",
     "output_type": "stream",
     "text": [
      "[[2]\n",
      " [2]\n",
      " [2]\n",
      " ...\n",
      " [0]\n",
      " [0]\n",
      " [1]]\n"
     ]
    }
   ],
   "source": [
    "#Create the target labels\n",
    "Y_labelled = np.vstack((data_labelled['objtype'] == 'QSOhighZ')+(data_labelled['objtype'] == 'QSOlowZ')+2*(data_labelled['objtype'] == 'Galaxy')+3*(data_labelled['objtype'] == 'other'))\n",
    "print(Y_labelled)"
   ]
  },
  {
   "cell_type": "code",
   "execution_count": 37,
   "id": "70c04730",
   "metadata": {},
   "outputs": [],
   "source": [
    "#Separate test and training data\n",
    "X_train, X_test, Y_train, Y_test = train_test_split(X_labelled, Y_labelled, test_size=0.2)\n",
    "X_train = np.vstack(X_train)\n",
    "Y_train = np.vstack(Y_train)\n",
    "X_test = np.vstack(X_test)\n",
    "Y_test = np.vstack(Y_test)"
   ]
  },
  {
   "cell_type": "code",
   "execution_count": 47,
   "id": "7b77359b",
   "metadata": {},
   "outputs": [
    {
     "data": {
      "text/html": [
       "<style>#sk-container-id-1 {color: black;background-color: white;}#sk-container-id-1 pre{padding: 0;}#sk-container-id-1 div.sk-toggleable {background-color: white;}#sk-container-id-1 label.sk-toggleable__label {cursor: pointer;display: block;width: 100%;margin-bottom: 0;padding: 0.3em;box-sizing: border-box;text-align: center;}#sk-container-id-1 label.sk-toggleable__label-arrow:before {content: \"▸\";float: left;margin-right: 0.25em;color: #696969;}#sk-container-id-1 label.sk-toggleable__label-arrow:hover:before {color: black;}#sk-container-id-1 div.sk-estimator:hover label.sk-toggleable__label-arrow:before {color: black;}#sk-container-id-1 div.sk-toggleable__content {max-height: 0;max-width: 0;overflow: hidden;text-align: left;background-color: #f0f8ff;}#sk-container-id-1 div.sk-toggleable__content pre {margin: 0.2em;color: black;border-radius: 0.25em;background-color: #f0f8ff;}#sk-container-id-1 input.sk-toggleable__control:checked~div.sk-toggleable__content {max-height: 200px;max-width: 100%;overflow: auto;}#sk-container-id-1 input.sk-toggleable__control:checked~label.sk-toggleable__label-arrow:before {content: \"▾\";}#sk-container-id-1 div.sk-estimator input.sk-toggleable__control:checked~label.sk-toggleable__label {background-color: #d4ebff;}#sk-container-id-1 div.sk-label input.sk-toggleable__control:checked~label.sk-toggleable__label {background-color: #d4ebff;}#sk-container-id-1 input.sk-hidden--visually {border: 0;clip: rect(1px 1px 1px 1px);clip: rect(1px, 1px, 1px, 1px);height: 1px;margin: -1px;overflow: hidden;padding: 0;position: absolute;width: 1px;}#sk-container-id-1 div.sk-estimator {font-family: monospace;background-color: #f0f8ff;border: 1px dotted black;border-radius: 0.25em;box-sizing: border-box;margin-bottom: 0.5em;}#sk-container-id-1 div.sk-estimator:hover {background-color: #d4ebff;}#sk-container-id-1 div.sk-parallel-item::after {content: \"\";width: 100%;border-bottom: 1px solid gray;flex-grow: 1;}#sk-container-id-1 div.sk-label:hover label.sk-toggleable__label {background-color: #d4ebff;}#sk-container-id-1 div.sk-serial::before {content: \"\";position: absolute;border-left: 1px solid gray;box-sizing: border-box;top: 0;bottom: 0;left: 50%;z-index: 0;}#sk-container-id-1 div.sk-serial {display: flex;flex-direction: column;align-items: center;background-color: white;padding-right: 0.2em;padding-left: 0.2em;position: relative;}#sk-container-id-1 div.sk-item {position: relative;z-index: 1;}#sk-container-id-1 div.sk-parallel {display: flex;align-items: stretch;justify-content: center;background-color: white;position: relative;}#sk-container-id-1 div.sk-item::before, #sk-container-id-1 div.sk-parallel-item::before {content: \"\";position: absolute;border-left: 1px solid gray;box-sizing: border-box;top: 0;bottom: 0;left: 50%;z-index: -1;}#sk-container-id-1 div.sk-parallel-item {display: flex;flex-direction: column;z-index: 1;position: relative;background-color: white;}#sk-container-id-1 div.sk-parallel-item:first-child::after {align-self: flex-end;width: 50%;}#sk-container-id-1 div.sk-parallel-item:last-child::after {align-self: flex-start;width: 50%;}#sk-container-id-1 div.sk-parallel-item:only-child::after {width: 0;}#sk-container-id-1 div.sk-dashed-wrapped {border: 1px dashed gray;margin: 0 0.4em 0.5em 0.4em;box-sizing: border-box;padding-bottom: 0.4em;background-color: white;}#sk-container-id-1 div.sk-label label {font-family: monospace;font-weight: bold;display: inline-block;line-height: 1.2em;}#sk-container-id-1 div.sk-label-container {text-align: center;}#sk-container-id-1 div.sk-container {/* jupyter's `normalize.less` sets `[hidden] { display: none; }` but bootstrap.min.css set `[hidden] { display: none !important; }` so we also need the `!important` here to be able to override the default hidden behavior on the sphinx rendered scikit-learn.org. See: https://github.com/scikit-learn/scikit-learn/issues/21755 */display: inline-block !important;position: relative;}#sk-container-id-1 div.sk-text-repr-fallback {display: none;}</style><div id=\"sk-container-id-1\" class=\"sk-top-container\"><div class=\"sk-text-repr-fallback\"><pre>XGBClassifier(base_score=None, booster=None, callbacks=None,\n",
       "              colsample_bylevel=None, colsample_bynode=None,\n",
       "              colsample_bytree=None, early_stopping_rounds=None,\n",
       "              enable_categorical=False, eval_metric=None, feature_types=None,\n",
       "              gamma=None, gpu_id=None, grow_policy=None, importance_type=None,\n",
       "              interaction_constraints=None, learning_rate=None, max_bin=None,\n",
       "              max_cat_threshold=None, max_cat_to_onehot=None,\n",
       "              max_delta_step=None, max_depth=None, max_leaves=None,\n",
       "              min_child_weight=None, missing=nan, monotone_constraints=None,\n",
       "              n_estimators=100, n_jobs=None, num_parallel_tree=None,\n",
       "              objective=&#x27;multi:softprob&#x27;, predictor=None, ...)</pre><b>In a Jupyter environment, please rerun this cell to show the HTML representation or trust the notebook. <br />On GitHub, the HTML representation is unable to render, please try loading this page with nbviewer.org.</b></div><div class=\"sk-container\" hidden><div class=\"sk-item\"><div class=\"sk-estimator sk-toggleable\"><input class=\"sk-toggleable__control sk-hidden--visually\" id=\"sk-estimator-id-1\" type=\"checkbox\" checked><label for=\"sk-estimator-id-1\" class=\"sk-toggleable__label sk-toggleable__label-arrow\">XGBClassifier</label><div class=\"sk-toggleable__content\"><pre>XGBClassifier(base_score=None, booster=None, callbacks=None,\n",
       "              colsample_bylevel=None, colsample_bynode=None,\n",
       "              colsample_bytree=None, early_stopping_rounds=None,\n",
       "              enable_categorical=False, eval_metric=None, feature_types=None,\n",
       "              gamma=None, gpu_id=None, grow_policy=None, importance_type=None,\n",
       "              interaction_constraints=None, learning_rate=None, max_bin=None,\n",
       "              max_cat_threshold=None, max_cat_to_onehot=None,\n",
       "              max_delta_step=None, max_depth=None, max_leaves=None,\n",
       "              min_child_weight=None, missing=nan, monotone_constraints=None,\n",
       "              n_estimators=100, n_jobs=None, num_parallel_tree=None,\n",
       "              objective=&#x27;multi:softprob&#x27;, predictor=None, ...)</pre></div></div></div></div></div>"
      ],
      "text/plain": [
       "XGBClassifier(base_score=None, booster=None, callbacks=None,\n",
       "              colsample_bylevel=None, colsample_bynode=None,\n",
       "              colsample_bytree=None, early_stopping_rounds=None,\n",
       "              enable_categorical=False, eval_metric=None, feature_types=None,\n",
       "              gamma=None, gpu_id=None, grow_policy=None, importance_type=None,\n",
       "              interaction_constraints=None, learning_rate=None, max_bin=None,\n",
       "              max_cat_threshold=None, max_cat_to_onehot=None,\n",
       "              max_delta_step=None, max_depth=None, max_leaves=None,\n",
       "              min_child_weight=None, missing=nan, monotone_constraints=None,\n",
       "              n_estimators=100, n_jobs=None, num_parallel_tree=None,\n",
       "              objective='multi:softprob', predictor=None, ...)"
      ]
     },
     "execution_count": 47,
     "metadata": {},
     "output_type": "execute_result"
    }
   ],
   "source": [
    "#Make testing and training matrices\n",
    "#xg_train = xgb.DMatrix(X_train, label=Y_train)\n",
    "#xg_test = xgb.DMatrix(X_test, label=Y_test)\n",
    "\n",
    "#Choose model parameters\n",
    "#param = {}\n",
    "#param['objective'] = 'multi:softmax'\n",
    "#param['eta'] = 0.1\n",
    "#param['max_depth'] = 6\n",
    "#param['nthread'] = 4\n",
    "#param['num_class'] = 4\n",
    "\n",
    "#Run the classifier\n",
    "#watchlist = [(xg_train, 'train'), (xg_test, 'test')]\n",
    "#num_round = 5\n",
    "bst = xgb.XGBClassifier()\n",
    "bst.fit(X_train,Y_train)"
   ]
  },
  {
   "cell_type": "code",
   "execution_count": 49,
   "id": "5781135f",
   "metadata": {},
   "outputs": [],
   "source": [
    "#Make predictions on the test set\n",
    "predicted_classes = bst.predict(X_test)"
   ]
  },
  {
   "cell_type": "code",
   "execution_count": 52,
   "id": "e40bc6b3",
   "metadata": {},
   "outputs": [
    {
     "data": {
      "text/plain": [
       "array([[141,   1,   2,   0],\n",
       "       [  2, 328,   1,   0],\n",
       "       [  5,   4,  43,   0],\n",
       "       [  0,   3,   0,   0]], dtype=int64)"
      ]
     },
     "execution_count": 52,
     "metadata": {},
     "output_type": "execute_result"
    }
   ],
   "source": [
    "#Show the confusion matrix\n",
    "confusion_matrix(Y_test,predicted_classes)"
   ]
  },
  {
   "cell_type": "code",
   "execution_count": null,
   "id": "701e91ce",
   "metadata": {},
   "outputs": [],
   "source": []
  }
 ],
 "metadata": {
  "kernelspec": {
   "display_name": "Python 3 (ipykernel)",
   "language": "python",
   "name": "python3"
  },
  "language_info": {
   "codemirror_mode": {
    "name": "ipython",
    "version": 3
   },
   "file_extension": ".py",
   "mimetype": "text/x-python",
   "name": "python",
   "nbconvert_exporter": "python",
   "pygments_lexer": "ipython3",
   "version": "3.10.9"
  }
 },
 "nbformat": 4,
 "nbformat_minor": 5
}
