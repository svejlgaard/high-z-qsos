{
 "cells": [
  {
   "cell_type": "code",
   "execution_count": 1,
   "metadata": {},
   "outputs": [],
   "source": [
    "#import astropy fits\n",
    "from astropy.io import fits\n",
    "import pandas as pd\n",
    "import numpy as np\n",
    "import matplotlib.pyplot as plt\n",
    "\n",
    "from astropy.coordinates import SkyCoord\n",
    "from astropy import units as u"
   ]
  },
  {
   "attachments": {},
   "cell_type": "markdown",
   "metadata": {},
   "source": [
    "IMPORTING THE DATA"
   ]
  },
  {
   "cell_type": "code",
   "execution_count": 4,
   "metadata": {},
   "outputs": [
    {
     "name": "stdout",
     "output_type": "stream",
     "text": [
      "removed  source_id\n",
      "removed  var_flg\n",
      "removed  objName\n"
     ]
    }
   ],
   "source": [
    "catalog_voss_class=\"VOSS_classifications.fits\"\n",
    "catalog_AllWise=\"AllWISE.fits\"\n",
    "catalog_Gaia_EDR3=\"Gaia_EDR3.fits\"\n",
    "catalog_panstarrs=\"PanSTARRS1DR2.fits\"\n",
    "catalog_Gaia_EDR3_subset=\"subset_Gaia_EDR3.fits\"\n",
    "\n",
    "\n",
    "df_voss=pd.DataFrame()\n",
    "df_AllWise=pd.DataFrame()\n",
    "df_Gaia_EDR3=pd.DataFrame()\n",
    "df_panstarrs=pd.DataFrame()\n",
    "df_subset=pd.DataFrame()\n",
    "\n",
    "#why are some columns 2D arrays? I just reshape them to 1D.\n",
    "\n",
    "#reading the catalogs and saving them to dataframes\n",
    "\n",
    "def read_fits(catalog,df,removestrings=True):\n",
    "    \"\"\" Reads a fits catalog and saves it to a dataframe. If removestrings is \n",
    "    True, it removes columns with string data type. \"\"\"\n",
    "    with fits.open(catalog) as data:\n",
    "        columns=(data[1].columns)\n",
    "        dimension=data[1].data[columns[0].name].shape[0]\n",
    "        for c in columns:\n",
    "            if data[1].data[c.name].shape==(dimension, 1):\n",
    "                datacol=data[1].data[c.name][:,0]\n",
    "            else:datacol=data[1].data[c.name]\n",
    "            if removestrings and datacol.dtype.kind=='U': \n",
    "                print(\"removed \",c.name)\n",
    "                continue\n",
    "            elif datacol.dtype.kind=='U': df[c.name]=np.asarray(datacol)\n",
    "            else:df[c.name]=np.asarray(datacol).byteswap().newbyteorder('<')\n",
    "    return df\n",
    "\n",
    "df_voss=read_fits(catalog_voss_class,df_voss,removestrings=False)\n",
    "df_AllWise=read_fits(catalog_AllWise,df_AllWise)\n",
    "df_Gaia_EDR3=read_fits(catalog_Gaia_EDR3,df_Gaia_EDR3)\n",
    "df_panstarrs=read_fits(catalog_panstarrs,df_panstarrs)\n",
    "df_subset=read_fits(catalog_Gaia_EDR3_subset,df_subset)\n",
    "\n",
    "\n",
    "\n"
   ]
  },
  {
   "attachments": {},
   "cell_type": "markdown",
   "metadata": {},
   "source": [
    "### Crossmatching\n",
    "\n",
    " "
   ]
  },
  {
   "cell_type": "code",
   "execution_count": 5,
   "metadata": {},
   "outputs": [],
   "source": [
    "def crossmatch(df1,df2,ra_key1=\"ra\",dec_key1=\"dec\",ra_key2=\"ra\",dec_key2=\"dec\",Nnearest=1):\n",
    "    \"\"\"finds the nearest neighbour (regardless of the distance) and returns df1 indeces of df2 counterparts.\"\"\"\n",
    "    cat1 = SkyCoord(ra=df1[ra_key1].to_numpy()*u.degree, dec=df1[dec_key1].to_numpy()*u.degree)\n",
    "    cat2=SkyCoord(ra=df2[ra_key2].to_numpy()*u.degree, dec=df2[dec_key2].to_numpy()*u.degree)\n",
    "    idx, d2d, d3d = cat1.match_to_catalog_sky(cat2,nthneighbor=Nnearest)\n",
    "    return idx,d2d,d3d\n",
    "\n",
    "def combine_data_frames(dfvoss,df,ra_key1=\"RAd\",dec_key1=\"DECd\",ra_key2=\"ra\",dec_key2=\"dec\",\n",
    "    max_sep=np.inf,df_columns=[\"ra\",\"dec\"], check_second_neighbour=True,remove_doubles=True,remove_doubles_otherway=True):\n",
    "    \"\"\"crossmatches the two catalogs and applies additional selection criteria. All sources with closest neighbours further than max_sep are removed.\n",
    "    If check_second_neighbour is True, all sources with second closest neighbour closer than max_sep are removed.\n",
    "    If remove_doubles is True, all df sources that appear more than once in dfvoss are removed.\n",
    "    If remove_doubles_otherway is True, all dfvoss sources that appear more than once in df are removed.\"\"\"\n",
    "\n",
    "    idx,d2d,_=crossmatch(dfvoss,df,ra_key1,dec_key1,ra_key2,dec_key2)\n",
    "\n",
    "    dfvoss=dfvoss.assign(idx_temp=idx)\n",
    "    voss_finalmask=np.full(len(dfvoss),True)\n",
    "    #remove those with no matches\n",
    "    voss_finalmask=d2d<max_sep\n",
    "    print(\"distance cut: removed\",len(voss_finalmask)-np.sum(voss_finalmask),\"sources ({:.3f}) %\".format((len(voss_finalmask)-np.sum(voss_finalmask))/len(voss_finalmask)*100))\n",
    "    currently_removed=len(voss_finalmask)-np.sum(voss_finalmask)\n",
    "\n",
    "    #check if the next nearest neighbour is closer than maxsep\n",
    "    if check_second_neighbour:\n",
    "        _,d2d_2,_=crossmatch(dfvoss,df,ra_key1,dec_key1,ra_key2,dec_key2,Nnearest=2)\n",
    "        voss_finalmask*=d2d_2>max_sep  \n",
    "        print(\"second neighbour cut: removed\",len(voss_finalmask)-np.sum(voss_finalmask)-currently_removed,\"sources ({:.3f}) %\".format((len(voss_finalmask)-np.sum(voss_finalmask)-currently_removed)/len(voss_finalmask)*100))\n",
    "        currently_removed=len(voss_finalmask)-np.sum(voss_finalmask)\n",
    "        \n",
    "    #remove duplicates from dfvoss\n",
    "    if remove_doubles:\n",
    "        #find which idx appear more than once\n",
    "        unique_inxs,counts=np.unique(idx,return_counts=True)\n",
    "        inxs=unique_inxs[counts>1]\n",
    "        for i in range(len(voss_finalmask)):\n",
    "            if idx[i] in inxs: voss_finalmask[i]=False\n",
    "        print(\"doubles cut: removed\",len(voss_finalmask)-np.sum(voss_finalmask)-currently_removed,\"sources ({:.3f}) %\".format((len(voss_finalmask)-np.sum(voss_finalmask)-currently_removed)/len(voss_finalmask)*100))\n",
    "        currently_removed=len(voss_finalmask)-np.sum(voss_finalmask)\n",
    "\n",
    "    if remove_doubles_otherway:\n",
    "        #find matches on already narrowed down dfvoss\n",
    "        inxs_3,d2d_3,_=crossmatch(df,dfvoss,ra_key2,dec_key2,ra_key1,dec_key1)\n",
    "        #leave only close matches\n",
    "        inxs_3=inxs_3[d2d_3<max_sep]\n",
    "        #find indeces of dfvoss that appear more than once\n",
    "        unique_inxs_3,counts=np.unique(inxs_3,return_counts=True)\n",
    "        inxs_3=unique_inxs_3[counts>1]\n",
    "        #remove the line number 3 from voss\n",
    "        for i in range(len(voss_finalmask)):\n",
    "            if i in inxs_3: voss_finalmask[i]=False\n",
    "        print(\"doubles other way cut: removed\",len(voss_finalmask)-np.sum(voss_finalmask)-currently_removed,\"sources ({:.3f}) %\".format((len(voss_finalmask)-np.sum(voss_finalmask)-currently_removed)/len(voss_finalmask)*100))\n",
    "        currently_removed=len(voss_finalmask)-np.sum(voss_finalmask)\n",
    "\n",
    "\n",
    "    df=df[df_columns]\n",
    "    df=df.assign(idx_temp=np.arange(len(df)))\n",
    "\n",
    "    #masked indeces\n",
    "    masked_indeces=dfvoss.idx_temp[voss_finalmask]\n",
    "\n",
    "    #remove lines of df where idx_temp is not in masked_indeces\n",
    "    df=df[df.idx_temp.isin(masked_indeces)]\n",
    "\n",
    "    df=pd.merge(dfvoss,df,on=\"idx_temp\",how=\"left\")\n",
    "\n",
    "    df=df.drop(columns=[\"idx_temp\"])\n",
    "    return df\n"
   ]
  },
  {
   "cell_type": "code",
   "execution_count": 6,
   "metadata": {},
   "outputs": [
    {
     "name": "stdout",
     "output_type": "stream",
     "text": [
      "AllWise\n",
      "distance cut: removed 487372 sources (17.343) %\n",
      "second neighbour cut: removed 0 sources (0.000) %\n",
      "doubles cut: removed 168563 sources (5.998) %\n",
      "doubles other way cut: removed 0 sources (0.000) %\n",
      "Gaia\n",
      "distance cut: removed 5631 sources (0.200) %\n",
      "second neighbour cut: removed 1 sources (0.000) %\n",
      "doubles cut: removed 2127 sources (0.076) %\n",
      "doubles other way cut: removed 0 sources (0.000) %\n",
      "PanSTARRS\n",
      "distance cut: removed 455 sources (0.016) %\n",
      "second neighbour cut: removed 0 sources (0.000) %\n",
      "doubles cut: removed 0 sources (0.000) %\n",
      "doubles other way cut: removed 0 sources (0.000) %\n"
     ]
    }
   ],
   "source": [
    "print(\"AllWise\")\n",
    "dfc=combine_data_frames(df_voss,df_AllWise,max_sep=0.75*u.arcsec,df_columns=[\"w1mpro\",\"w2mpro\",\"w3mpro\",\"w4mpro\"])\n",
    "print(\"Gaia\")\n",
    "dfc=combine_data_frames(dfc,df_Gaia_EDR3,max_sep=0.75*u.arcsec,df_columns=[\"phot_g_mean_mag\",\"phot_bp_mean_mag\",\"phot_rp_mean_mag\",\"parallax\",\"parallax_error\",\"pmra\",\"pmdec\",\"pmra_error\",\"pmdec_error\"])\n",
    "print(\"PanSTARRS\")\n",
    "dfc=combine_data_frames(dfc,df_panstarrs,max_sep=0.75*u.arcsec,ra_key2=\"raStack\",dec_key2=\"decStack\",df_columns=[\"gPSFMag\",\"rPSFMag\",\"iPSFMag\",\"zPSFMag\",\"yPSFMag\"])"
   ]
  },
  {
   "attachments": {},
   "cell_type": "markdown",
   "metadata": {},
   "source": [
    " Marking stars"
   ]
  },
  {
   "cell_type": "code",
   "execution_count": 7,
   "metadata": {},
   "outputs": [
    {
     "name": "stdout",
     "output_type": "stream",
     "text": [
      "number of potential stars:  1031371\n",
      "number of potential stars with objtype not empty:  17562\n"
     ]
    },
    {
     "name": "stderr",
     "output_type": "stream",
     "text": [
      "/Users/gregorrih/opt/anaconda3/envs/astroconda/lib/python3.7/site-packages/ipykernel_launcher.py:18: SettingWithCopyWarning: \n",
      "A value is trying to be set on a copy of a slice from a DataFrame\n",
      "\n",
      "See the caveats in the documentation: https://pandas.pydata.org/pandas-docs/stable/user_guide/indexing.html#returning-a-view-versus-a-copy\n"
     ]
    },
    {
     "name": "stdout",
     "output_type": "stream",
     "text": [
      "aaa (array(['BLLac    ', 'EmLines  ', 'Extended?', 'Galaxy   ', 'QSO      ',\n",
      "       'Type2    '], dtype=object), array([    6,     3, 16633,   398,   489,    33]))\n"
     ]
    }
   ],
   "source": [
    "#add potential star flag column with zeros\n",
    "dfc=dfc.assign(potential_star=np.zeros(len(dfc),dtype=int))\n",
    "\n",
    "#or selection of stars\n",
    "starmask=np.array(abs(dfc.parallax/dfc.parallax_error)>3) | (np.array(abs(dfc.pmra/dfc.pmra_error)>3) | np.array(abs(dfc.pmdec/dfc.pmdec_error)>3))\n",
    "starmask_conservative=np.array(abs(dfc.parallax/dfc.parallax_error>3)) | (np.array(abs(dfc.pmra/dfc.pmra_error)>3) | np.array(abs(dfc.pmdec/dfc.pmdec_error)>3))\n",
    "\n",
    "\n",
    "\n",
    "\n",
    "dfc.loc[starmask,\"potential_star\"]=1\n",
    "print(\"number of potential stars: \",len(dfc[starmask]))\n",
    "\n",
    "#check istances where potential_star==1 but objtype is not '         '\n",
    "spurious_mask=(dfc.potential_star==1) & (dfc.objtype!=\"         \")\n",
    "print(\"number of potential stars with objtype not empty: \",np.sum(spurious_mask))\n",
    "reliable_star_mask=(dfc.potential_star==1) & (dfc.objtype==\"         \")\n",
    "dfc.objtype[reliable_star_mask]=\"star\"\n",
    "\n",
    "\n",
    "print(\"aaa\",np.unique(dfc.objtype[spurious_mask],return_counts=True))\n",
    "\n",
    "#create the spurious flag\n",
    "dfc=dfc.assign(spurious_label=np.zeros(len(dfc),dtype=int))\n",
    "dfc.loc[spurious_mask,\"spurious_label\"]=1\n",
    "\n",
    "#remove potential_star column\n",
    "dfc=dfc.drop(columns=[\"potential_star\"])\n"
   ]
  },
  {
   "cell_type": "code",
   "execution_count": null,
   "metadata": {},
   "outputs": [],
   "source": [
    "print(\"a\")"
   ]
  },
  {
   "cell_type": "code",
   "execution_count": 101,
   "metadata": {},
   "outputs": [
    {
     "name": "stdout",
     "output_type": "stream",
     "text": [
      "0.023221484131039572\n"
     ]
    }
   ],
   "source": [
    "print(409/np.sum(dfc.objtype=='QSO      '))"
   ]
  },
  {
   "cell_type": "code",
   "execution_count": 84,
   "metadata": {},
   "outputs": [
    {
     "name": "stdout",
     "output_type": "stream",
     "text": [
      "0.3100480094167616\n"
     ]
    }
   ],
   "source": [
    "print(710129/len(dfc))"
   ]
  },
  {
   "cell_type": "code",
   "execution_count": 9,
   "metadata": {},
   "outputs": [],
   "source": [
    "#save dfc\n",
    "dfc.to_csv(\"GR_theBigtable.fits\")"
   ]
  },
  {
   "attachments": {},
   "cell_type": "markdown",
   "metadata": {},
   "source": [
    "Some visualisations"
   ]
  },
  {
   "cell_type": "code",
   "execution_count": 150,
   "metadata": {},
   "outputs": [],
   "source": [
    "idx_allwise, d2d_allwise, d3d_allwise = crossmatch(df_voss,df_AllWise,ra_key2=\"ra\",dec_key2=\"dec\",ra_key1=\"RAd\",dec_key1=\"DECd\")"
   ]
  },
  {
   "cell_type": "code",
   "execution_count": 152,
   "metadata": {},
   "outputs": [
    {
     "data": {
      "image/png": "[encoded data removed]",
      "text/plain": [
       "<Figure size 640x480 with 1 Axes>"
      ]
     },
     "metadata": {},
     "output_type": "display_data"
    }
   ],
   "source": [
    "plt.hist(d2d_allwise.to(u.arcsec),bins=100,range=(0,2))\n",
    "#plt.yscale(\"log\")\n",
    "plt.xlabel(\"distance [arcsec]\")\n",
    "plt.ylabel(\"N\")\n",
    "plt.savefig(\"hist_allwise.png\")"
   ]
  },
  {
   "cell_type": "code",
   "execution_count": 90,
   "metadata": {},
   "outputs": [],
   "source": [
    "#same for pansstarrs\n",
    "idx_panstarrs, d2d_panstarrs, d3d_panstarrs = crossmatch(df_voss,df_panstarrs,ra_key2=\"raStack\",dec_key2=\"decStack\",ra_key1=\"RAd\",dec_key1=\"DECd\")"
   ]
  },
  {
   "cell_type": "code",
   "execution_count": 94,
   "metadata": {},
   "outputs": [
    {
     "data": {
      "image/png": "[encoded data removed]",
      "text/plain": [
       "<Figure size 640x480 with 1 Axes>"
      ]
     },
     "metadata": {},
     "output_type": "display_data"
    }
   ],
   "source": [
    "plt.hist(d2d_panstarrs.to(u.arcsec),bins=100,range=(0,2))\n",
    "#plt.yscale(\"log\")\n",
    "plt.xlabel(\"distance [arcsec]\")\n",
    "plt.ylabel(\"N\")\n",
    "plt.savefig(\"hist_panstarrs.png\")\n"
   ]
  },
  {
   "cell_type": "code",
   "execution_count": 153,
   "metadata": {},
   "outputs": [],
   "source": [
    "#same for gaia\n",
    "idx_gaia, d2d_gaia, d3d_gaia = crossmatch(df_voss,df_Gaia_EDR3,ra_key2=\"ra\",dec_key2=\"dec\",ra_key1=\"RAd\",dec_key1=\"DECd\")"
   ]
  },
  {
   "cell_type": "code",
   "execution_count": 154,
   "metadata": {},
   "outputs": [
    {
     "data": {
      "text/plain": [
       "(0.0, 200000.0)"
      ]
     },
     "execution_count": 154,
     "metadata": {},
     "output_type": "execute_result"
    },
    {
     "data": {
      "image/png": "[encoded data removed]",
      "text/plain": [
       "<Figure size 640x480 with 1 Axes>"
      ]
     },
     "metadata": {},
     "output_type": "display_data"
    }
   ],
   "source": [
    "plt.hist(d2d_gaia.to(u.arcsec),bins=100,range=(0,2))\n",
    "#plt.yscale(\"log\")\n",
    "plt.xlabel(\"distance [arcsec]\")\n",
    "plt.ylabel(\"N\")\n",
    "plt.savefig(\"hist_gaia.png\")\n",
    "plt.ylim(0,0.2e6)\n"
   ]
  },
  {
   "cell_type": "code",
   "execution_count": null,
   "metadata": {},
   "outputs": [],
   "source": []
  }
 ],
 "metadata": {
  "kernelspec": {
   "display_name": "astroconda",
   "language": "python",
   "name": "python3"
  },
  "language_info": {
   "codemirror_mode": {
    "name": "ipython",
    "version": 3
   },
   "file_extension": ".py",
   "mimetype": "text/x-python",
   "name": "python",
   "nbconvert_exporter": "python",
   "pygments_lexer": "ipython3",
   "version": "3.7.15"
  },
  "orig_nbformat": 4
 },
 "nbformat": 4,
 "nbformat_minor": 2
}
