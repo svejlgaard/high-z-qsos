{
 "cells": [
  {
   "cell_type": "code",
   "execution_count": 1,
   "metadata": {},
   "outputs": [],
   "source": [
    "#import astropy fits\n",
    "from astropy.io import fits\n",
    "import pandas as pd\n",
    "import numpy as np\n",
    "import matplotlib.pyplot as plt\n",
    "\n",
    "from astropy.coordinates import SkyCoord\n",
    "from astropy import units as u"
   ]
  },
  {
   "attachments": {},
   "cell_type": "markdown",
   "metadata": {},
   "source": [
    "IMPORTING THE DATA"
   ]
  },
  {
   "cell_type": "code",
   "execution_count": 101,
   "metadata": {},
   "outputs": [
    {
     "name": "stdout",
     "output_type": "stream",
     "text": [
      "removed  source_id\n",
      "removed  var_flg\n",
      "removed  objName\n",
      "removed  source_id\n",
      "removed  var_flg\n"
     ]
    }
   ],
   "source": [
    "catalog_voss_class=\"VOSS_classifications.fits\"\n",
    "catalog_AllWise=\"AllWISE.fits\"\n",
    "catalog_Gaia_EDR3=\"Gaia_EDR3.fits\"\n",
    "catalog_panstarrs=\"PanSTARRS1DR2.fits\"\n",
    "\n",
    "\n",
    "df_voss=pd.DataFrame()\n",
    "df_AllWise=pd.DataFrame()\n",
    "df_Gaia_EDR3=pd.DataFrame()\n",
    "df_panstarrs=pd.DataFrame()\n",
    "\n",
    "\n",
    "#why are some columns 2D arrays? I just reshape them to 1D.\n",
    "\n",
    "#reading the catalogs and saving them to dataframes\n",
    "\n",
    "def read_fits(catalog,df,removestrings=True):\n",
    "    \"\"\" Reads a fits catalog and saves it to a dataframe. If removestrings is \n",
    "    True, it removes columns with string data type. \"\"\"\n",
    "    with fits.open(catalog) as data:\n",
    "        columns=(data[1].columns)\n",
    "        dimension=data[1].data[columns[0].name].shape[0]\n",
    "        for c in columns:\n",
    "            if data[1].data[c.name].shape==(dimension, 1):\n",
    "                datacol=data[1].data[c.name][:,0]\n",
    "            else:datacol=data[1].data[c.name]\n",
    "            if removestrings and datacol.dtype.kind=='U': \n",
    "                print(\"removed \",c.name)\n",
    "                continue\n",
    "            elif datacol.dtype.kind=='U': df[c.name]=np.asarray(datacol)\n",
    "            else:df[c.name]=np.asarray(datacol).byteswap().newbyteorder('<')\n",
    "    return df\n",
    "\n",
    "df_voss=read_fits(catalog_voss_class,df_voss,removestrings=False)\n",
    "df_AllWise=read_fits(catalog_AllWise,df_AllWise)\n",
    "df_Gaia_EDR3=read_fits(catalog_Gaia_EDR3,df_Gaia_EDR3)\n",
    "df_panstarrs=read_fits(catalog_panstarrs,df_panstarrs)\n",
    "\n",
    "\n",
    "\n"
   ]
  },
  {
   "attachments": {},
   "cell_type": "markdown",
   "metadata": {},
   "source": [
    "### Crossmatching\n",
    "\n",
    " "
   ]
  },
  {
   "cell_type": "code",
   "execution_count": 125,
   "metadata": {},
   "outputs": [],
   "source": [
    "def crossmatch(df1,df2,ra_key1=\"ra\",dec_key1=\"dec\",ra_key2=\"ra\",dec_key2=\"dec\"):\n",
    "    cat1 = SkyCoord(ra=df1[ra_key1].to_numpy()*u.degree, dec=df1[dec_key1].to_numpy()*u.degree)\n",
    "    cat2=SkyCoord(ra=df2[ra_key2].to_numpy()*u.degree, dec=df2[dec_key2].to_numpy()*u.degree)\n",
    "    idx, d2d, d3d = cat1.match_to_catalog_sky(cat2)\n",
    "    return idx,d2d,d3d\n",
    "\n",
    "def combine_data_frames(dfvoss,df,ra_key1=\"RAd\",dec_key1=\"DECd\",ra_key2=\"ra\",dec_key2=\"dec\",\n",
    "    max_sep=np.inf,df_columns=[\"ra\",\"dec\"]):\n",
    "\n",
    "    idx,d2d,d3d=crossmatch(dfvoss,df,ra_key1,dec_key1,ra_key2,dec_key2)\n",
    "    dfvoss=dfvoss.assign(idx_temp=idx)\n",
    "    dfvoss=dfvoss[d2d<max_sep]\n",
    "    df=df[df_columns]\n",
    "    df=df.assign(idx_temp=np.arange(len(df)))\n",
    "    df=pd.merge(dfvoss,df,on=\"idx_temp\",how=\"left\")\n",
    "    df=df.drop(columns=[\"idx_temp\"])\n",
    "    return df\n"
   ]
  },
  {
   "cell_type": "code",
   "execution_count": 151,
   "metadata": {},
   "outputs": [],
   "source": [
    "dfc=combine_data_frames(df_voss,df_AllWise,max_sep=0.7*u.arcsec,df_columns=[\"w1mpro\",\"w2mpro\",\"w3mpro\",\"w4mpro\"])\n",
    "dfc=combine_data_frames(dfc,df_Gaia_EDR3,max_sep=0.7*u.arcsec,df_columns=[\"phot_g_mean_mag\",\"phot_bp_mean_mag\",\"phot_rp_mean_mag\",\"parallax\",\"parallax_error\",\"pmra\",\"pmdec\",\"pmra_error\",\"pmdec_error\"])\n",
    "dfc=combine_data_frames(dfc,df_panstarrs,max_sep=0.7*u.arcsec,ra_key2=\"raStack\",dec_key2=\"decStack\",df_columns=[\"gPSFMag\",\"rPSFMag\",\"iPSFMag\",\"zPSFMag\",\"yPSFMag\"])"
   ]
  },
  {
   "cell_type": "code",
   "execution_count": null,
   "metadata": {},
   "outputs": [],
   "source": [
    "dfc.head()"
   ]
  },
  {
   "cell_type": "code",
   "execution_count": 153,
   "metadata": {},
   "outputs": [],
   "source": [
    "#save dfc\n",
    "dfc.to_csv(\"combinedcat.csv\")"
   ]
  },
  {
   "attachments": {},
   "cell_type": "markdown",
   "metadata": {},
   "source": [
    "Some visualisations"
   ]
  },
  {
   "cell_type": "code",
   "execution_count": 134,
   "metadata": {},
   "outputs": [],
   "source": [
    "idx_allwise, d2d_allwise, d3d_allwise = crossmatch(df_voss,df_AllWise,ra_key2=\"ra\",dec_key2=\"dec\",ra_key1=\"RAd\",dec_key1=\"DECd\")"
   ]
  },
  {
   "cell_type": "code",
   "execution_count": 147,
   "metadata": {},
   "outputs": [
    {
     "data": {
      "image/png": "[encoded data removed]",
      "text/plain": [
       "<Figure size 640x480 with 1 Axes>"
      ]
     },
     "metadata": {},
     "output_type": "display_data"
    }
   ],
   "source": [
    "plt.hist(d2d_allwise.to(u.arcsec),bins=100,range=(0,2))\n",
    "plt.yscale(\"log\")\n",
    "plt.xlabel(\"distance [arcsec]\")\n",
    "plt.ylabel(\"N\")\n",
    "plt.savefig(\"hist_allwise.png\")"
   ]
  },
  {
   "cell_type": "code",
   "execution_count": 145,
   "metadata": {},
   "outputs": [],
   "source": [
    "#same for pansstarrs\n",
    "idx_panstarrs, d2d_panstarrs, d3d_panstarrs = crossmatch(df_voss,df_panstarrs,ra_key2=\"raStack\",dec_key2=\"decStack\",ra_key1=\"RAd\",dec_key1=\"DECd\")"
   ]
  },
  {
   "cell_type": "code",
   "execution_count": 148,
   "metadata": {},
   "outputs": [
    {
     "data": {
      "image/png": "[encoded data removed]",
      "text/plain": [
       "<Figure size 640x480 with 1 Axes>"
      ]
     },
     "metadata": {},
     "output_type": "display_data"
    }
   ],
   "source": [
    "plt.hist(d2d_panstarrs.to(u.arcsec),bins=100,range=(0,2))\n",
    "plt.yscale(\"log\")\n",
    "plt.xlabel(\"distance [arcsec]\")\n",
    "plt.ylabel(\"N\")\n",
    "plt.savefig(\"hist_panstarrs.png\")\n"
   ]
  },
  {
   "cell_type": "code",
   "execution_count": 141,
   "metadata": {},
   "outputs": [],
   "source": [
    "#same for gaia\n",
    "idx_gaia, d2d_gaia, d3d_gaia = crossmatch(df_voss,df_Gaia_EDR3,ra_key2=\"ra\",dec_key2=\"dec\",ra_key1=\"RAd\",dec_key1=\"DECd\")"
   ]
  },
  {
   "cell_type": "code",
   "execution_count": 149,
   "metadata": {},
   "outputs": [
    {
     "data": {
      "image/png": "[encoded data removed]",
      "text/plain": [
       "<Figure size 640x480 with 1 Axes>"
      ]
     },
     "metadata": {},
     "output_type": "display_data"
    }
   ],
   "source": [
    "plt.hist(d2d_gaia.to(u.arcsec),bins=100,range=(0,2))\n",
    "plt.yscale(\"log\")\n",
    "plt.xlabel(\"distance [arcsec]\")\n",
    "plt.ylabel(\"N\")\n",
    "plt.savefig(\"hist_gaia.png\")\n"
   ]
  }
 ],
 "metadata": {
  "kernelspec": {
   "display_name": "astroconda",
   "language": "python",
   "name": "python3"
  },
  "language_info": {
   "codemirror_mode": {
    "name": "ipython",
    "version": 3
   },
   "file_extension": ".py",
   "mimetype": "text/x-python",
   "name": "python",
   "nbconvert_exporter": "python",
   "pygments_lexer": "ipython3",
   "version": "3.7.15"
  },
  "orig_nbformat": 4
 },
 "nbformat": 4,
 "nbformat_minor": 2
}
